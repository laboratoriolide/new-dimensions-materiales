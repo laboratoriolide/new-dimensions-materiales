{
 "cells": [
  {
   "cell_type": "markdown",
   "metadata": {},
   "source": [
    "# Datos tabulares con `numpy` e introducción a bucles"
   ]
  },
  {
   "cell_type": "code",
   "execution_count": 3,
   "metadata": {},
   "outputs": [],
   "source": [
    "#Importamos numpy\n",
    "import numpy as np"
   ]
  },
  {
   "cell_type": "markdown",
   "metadata": {},
   "source": [
    "## Introducción a datos tabulares con `numpy`\n",
    "Recordemos cómo hacer una lista simple en `Python`"
   ]
  },
  {
   "cell_type": "code",
   "execution_count": 6,
   "metadata": {},
   "outputs": [
    {
     "data": {
      "text/plain": [
       "'Ana'"
      ]
     },
     "execution_count": 6,
     "metadata": {},
     "output_type": "execute_result"
    }
   ],
   "source": [
    "#Creamos una lista con caracteres\n",
    "nombres = ['Denisse', 'Ana', 'Alonso']\n",
    "#Llamamos al segunda elemento de la lista (índice 1)\n",
    "nombres[1]"
   ]
  },
  {
   "cell_type": "markdown",
   "metadata": {},
   "source": [
    "Creamos un array de numpy con la función `numpy.array` y damos una lista como parámetro."
   ]
  },
  {
   "cell_type": "code",
   "execution_count": 8,
   "metadata": {},
   "outputs": [
    {
     "data": {
      "text/plain": [
       "array([1, 2, 3, 4])"
      ]
     },
     "execution_count": 8,
     "metadata": {},
     "output_type": "execute_result"
    }
   ],
   "source": [
    "np.array([1, 2, 3, 4])"
   ]
  },
  {
   "cell_type": "markdown",
   "metadata": {},
   "source": [
    "Recuerda que podemos también usar una lista previamente asignada a una variable. Abajo usamos la variable `nombres` para crear un array de `numpy`."
   ]
  },
  {
   "cell_type": "code",
   "execution_count": 10,
   "metadata": {},
   "outputs": [
    {
     "data": {
      "text/plain": [
       "array(['Denisse', 'Ana', 'Alonso'], dtype='<U7')"
      ]
     },
     "execution_count": 10,
     "metadata": {},
     "output_type": "execute_result"
    }
   ],
   "source": [
    "#Utilizamos la misma función\n",
    "nombres_np = np.array(nombres)\n",
    "\n",
    "#Imprimimos los resultados\n",
    "nombres_np"
   ]
  },
  {
   "cell_type": "markdown",
   "metadata": {},
   "source": [
    "Tal como lo hicimos con listas, podemos utilizar índices para acceder a los elementos de un array de `numpy`."
   ]
  },
  {
   "cell_type": "code",
   "execution_count": 11,
   "metadata": {},
   "outputs": [
    {
     "data": {
      "text/plain": [
       "'Alonso'"
      ]
     },
     "execution_count": 11,
     "metadata": {},
     "output_type": "execute_result"
    }
   ],
   "source": [
    "nombres_np[2]"
   ]
  },
  {
   "cell_type": "markdown",
   "metadata": {},
   "source": [
    "Podemos crear un array de dos dimensiones, utilizando una lista de listas tal como se muestra abajo."
   ]
  },
  {
   "cell_type": "code",
   "execution_count": 29,
   "metadata": {},
   "outputs": [
    {
     "data": {
      "text/plain": [
       "array([[1, 2, 3],\n",
       "       [4, 5, 6]])"
      ]
     },
     "execution_count": 29,
     "metadata": {},
     "output_type": "execute_result"
    }
   ],
   "source": [
    "arr_2d = np.array([[1, 2, 3], [4, 5, 6]])\n",
    "arr_2d"
   ]
  },
  {
   "cell_type": "markdown",
   "metadata": {},
   "source": [
    "Así como mostramos más arriba, podemos definir varias listas y luego utilizarlas para crear un array de `numpy`."
   ]
  },
  {
   "cell_type": "code",
   "execution_count": 13,
   "metadata": {},
   "outputs": [],
   "source": [
    "lista1 = [1, 2, 3]\n",
    "lista2 = [4, 5, 6]"
   ]
  },
  {
   "cell_type": "markdown",
   "metadata": {},
   "source": [
    "De hecho, podemos utilizar una combinación de listas previamente asignadas a variables, así como listas directamente en la función `numpy.array`."
   ]
  },
  {
   "cell_type": "code",
   "execution_count": 33,
   "metadata": {},
   "outputs": [
    {
     "data": {
      "text/plain": [
       "array([[1, 2, 3],\n",
       "       [4, 5, 6],\n",
       "       [7, 8, 9]])"
      ]
     },
     "execution_count": 33,
     "metadata": {},
     "output_type": "execute_result"
    }
   ],
   "source": [
    "np.array([lista1, lista2, [7, 8, 9]])"
   ]
  },
  {
   "cell_type": "markdown",
   "metadata": {},
   "source": [
    "Recordemos que podemos revisar el tipo de datos en una variable usando la función `type`."
   ]
  },
  {
   "cell_type": "code",
   "execution_count": 5,
   "metadata": {},
   "outputs": [
    {
     "data": {
      "text/plain": [
       "numpy.ndarray"
      ]
     },
     "execution_count": 5,
     "metadata": {},
     "output_type": "execute_result"
    }
   ],
   "source": [
    "type(arr_2d)"
   ]
  },
  {
   "cell_type": "markdown",
   "metadata": {},
   "source": [
    "Pero para revisar el tipo de datos dentro de un array de `numpy`, debemos usar el atributo `dtype`."
   ]
  },
  {
   "cell_type": "code",
   "execution_count": 6,
   "metadata": {},
   "outputs": [
    {
     "data": {
      "text/plain": [
       "dtype('int32')"
      ]
     },
     "execution_count": 6,
     "metadata": {},
     "output_type": "execute_result"
    }
   ],
   "source": [
    "arr_2d.dtype"
   ]
  },
  {
   "cell_type": "markdown",
   "metadata": {},
   "source": [
    "Podemos revisar el número de dimensiones de un array de `numpy` usando el atributo `ndim`."
   ]
  },
  {
   "cell_type": "code",
   "execution_count": 37,
   "metadata": {},
   "outputs": [
    {
     "data": {
      "text/plain": [
       "2"
      ]
     },
     "execution_count": 37,
     "metadata": {},
     "output_type": "execute_result"
    }
   ],
   "source": [
    "arr_2d.ndim"
   ]
  },
  {
   "cell_type": "markdown",
   "metadata": {},
   "source": [
    "Mientras que el atributo `shape` nos permite revisar el número de elementos en cada dimensión."
   ]
  },
  {
   "cell_type": "code",
   "execution_count": 38,
   "metadata": {},
   "outputs": [
    {
     "data": {
      "text/plain": [
       "(2, 3)"
      ]
     },
     "execution_count": 38,
     "metadata": {},
     "output_type": "execute_result"
    }
   ],
   "source": [
    "arr_2d.shape"
   ]
  },
  {
   "cell_type": "markdown",
   "metadata": {},
   "source": [
    "Por cierto, un array de `numpy` puede tener más de una o dos dimensiones. Abajo tenemos un array de `numpy` de tres dimensiones."
   ]
  },
  {
   "cell_type": "code",
   "execution_count": 7,
   "metadata": {},
   "outputs": [
    {
     "data": {
      "text/plain": [
       "array([[[ 1,  2,  3],\n",
       "        [ 4,  5,  6]],\n",
       "\n",
       "       [[ 7,  8,  9],\n",
       "        [10, 11, 12]]])"
      ]
     },
     "execution_count": 7,
     "metadata": {},
     "output_type": "execute_result"
    }
   ],
   "source": [
    "nuevo_array = np.array([[[1, 2, 3], [4, 5, 6]], [[7, 8, 9], [10, 11, 12]]])\n",
    "nuevo_array"
   ]
  },
  {
   "cell_type": "markdown",
   "metadata": {},
   "source": [
    "Ahora revisemos el número de elementos en cada dimensión."
   ]
  },
  {
   "cell_type": "code",
   "execution_count": 42,
   "metadata": {},
   "outputs": [
    {
     "data": {
      "text/plain": [
       "array([[[ 1,  2,  3],\n",
       "        [ 4,  5,  6]],\n",
       "\n",
       "       [[ 7,  8,  9],\n",
       "        [10, 11, 12]]])"
      ]
     },
     "execution_count": 42,
     "metadata": {},
     "output_type": "execute_result"
    }
   ],
   "source": [
    "nuevo_array.shape"
   ]
  },
  {
   "cell_type": "markdown",
   "metadata": {},
   "source": [
    "## Operaciones matemáticas con arrays de numpy\n",
    "Vamos a definir dos arrays de `numpy` con números enteros."
   ]
  },
  {
   "cell_type": "code",
   "execution_count": 11,
   "metadata": {},
   "outputs": [],
   "source": [
    "arr1 = np.array([1, 2, 3])\n",
    "arr2 = np.array([4, 5, 6])"
   ]
  },
  {
   "cell_type": "markdown",
   "metadata": {},
   "source": [
    "Podemos llevar a cabo una semana de cada uno de los elementos de los arrays de `numpy` usando el operador `+`."
   ]
  },
  {
   "cell_type": "code",
   "execution_count": 47,
   "metadata": {},
   "outputs": [
    {
     "data": {
      "text/plain": [
       "array([5, 7, 9])"
      ]
     },
     "execution_count": 47,
     "metadata": {},
     "output_type": "execute_result"
    }
   ],
   "source": [
    "arr1 + arr2"
   ]
  },
  {
   "cell_type": "markdown",
   "metadata": {},
   "source": [
    "Esto es diferente al resultado que obtenemos al sumar dos listas. En este caso, el operador `+` concatena las dos listas."
   ]
  },
  {
   "cell_type": "code",
   "execution_count": 48,
   "metadata": {},
   "outputs": [
    {
     "data": {
      "text/plain": [
       "[1, 2, 3, 4, 5, 6]"
      ]
     },
     "execution_count": 48,
     "metadata": {},
     "output_type": "execute_result"
    }
   ],
   "source": [
    "[1, 2, 3]+[4, 5, 6]"
   ]
  },
  {
   "cell_type": "markdown",
   "metadata": {},
   "source": [
    "Esto significa que no podemos usar el operador `+` para concatenar dos arrays de `numpy` que no contienen el mismo tipo de datos."
   ]
  },
  {
   "cell_type": "code",
   "execution_count": 13,
   "metadata": {},
   "outputs": [
    {
     "data": {
      "text/plain": [
       "array(['Denisse', 'Ana', 'Alonso'], dtype='<U7')"
      ]
     },
     "execution_count": 13,
     "metadata": {},
     "output_type": "execute_result"
    }
   ],
   "source": [
    "nombres = np.array(['Denisse', 'Ana', 'Alonso'])\n",
    "nombres"
   ]
  },
  {
   "cell_type": "markdown",
   "metadata": {},
   "source": [
    "No podemos concatenar el `arr1` y `nombres` porque `arr1` contiene números enteros y `nombres` contiene cadenas de caracteres."
   ]
  },
  {
   "cell_type": "code",
   "execution_count": 14,
   "metadata": {},
   "outputs": [
    {
     "ename": "UFuncTypeError",
     "evalue": "ufunc 'add' did not contain a loop with signature matching types (dtype('<U7'), dtype('int32')) -> None",
     "output_type": "error",
     "traceback": [
      "\u001b[1;31m---------------------------------------------------------------------------\u001b[0m",
      "\u001b[1;31mUFuncTypeError\u001b[0m                            Traceback (most recent call last)",
      "\u001b[1;32mc:\\Users\\ldfierro\\Documents\\Scripts\\new-dimensions\\Python\\Semana_2.ipynb Cell 38\u001b[0m line \u001b[0;36m1\n\u001b[1;32m----> <a href='vscode-notebook-cell:/c%3A/Users/ldfierro/Documents/Scripts/new-dimensions/Python/Semana_2.ipynb#X32sZmlsZQ%3D%3D?line=0'>1</a>\u001b[0m nombres \u001b[39m+\u001b[39;49m arr1\n",
      "\u001b[1;31mUFuncTypeError\u001b[0m: ufunc 'add' did not contain a loop with signature matching types (dtype('<U7'), dtype('int32')) -> None"
     ]
    }
   ],
   "source": [
    "nombres + arr1"
   ]
  },
  {
   "cell_type": "markdown",
   "metadata": {},
   "source": [
    "Esto sólo es posible si utilizamos listas en lugar de arrays de `numpy`."
   ]
  },
  {
   "cell_type": "code",
   "execution_count": 57,
   "metadata": {},
   "outputs": [
    {
     "data": {
      "text/plain": [
       "['Denisse', 'Ana', 'Alonso', 1, 2, 3]"
      ]
     },
     "execution_count": 57,
     "metadata": {},
     "output_type": "execute_result"
    }
   ],
   "source": [
    "['Denisse', 'Ana', 'Alonso'] + [1, 2, 3]"
   ]
  },
  {
   "cell_type": "markdown",
   "metadata": {},
   "source": [
    "Tampoco podemos hacer operaciones con arrays de `numpy` que no tienen el mismo número de elementos."
   ]
  },
  {
   "cell_type": "code",
   "execution_count": 15,
   "metadata": {},
   "outputs": [
    {
     "ename": "ValueError",
     "evalue": "operands could not be broadcast together with shapes (3,) (2,) ",
     "output_type": "error",
     "traceback": [
      "\u001b[1;31m---------------------------------------------------------------------------\u001b[0m",
      "\u001b[1;31mValueError\u001b[0m                                Traceback (most recent call last)",
      "\u001b[1;32mc:\\Users\\ldfierro\\Documents\\Scripts\\new-dimensions\\Python\\Semana_2.ipynb Cell 40\u001b[0m line \u001b[0;36m1\n\u001b[1;32m----> <a href='vscode-notebook-cell:/c%3A/Users/ldfierro/Documents/Scripts/new-dimensions/Python/Semana_2.ipynb#Y166sZmlsZQ%3D%3D?line=0'>1</a>\u001b[0m arr1 \u001b[39m+\u001b[39;49m np\u001b[39m.\u001b[39;49marray([\u001b[39m1\u001b[39;49m, \u001b[39m2\u001b[39;49m])\n",
      "\u001b[1;31mValueError\u001b[0m: operands could not be broadcast together with shapes (3,) (2,) "
     ]
    }
   ],
   "source": [
    "arr1 + np.array([1, 2])"
   ]
  },
  {
   "cell_type": "markdown",
   "metadata": {},
   "source": [
    "Una multiplicación funciona de la misma manera que una suma. El operador `*` multiplica cada elemento de los arrays de `numpy`. Recuerda que no podemos multiplicar dos arrays de `numpy` que no tienen el mismo número de elementos."
   ]
  },
  {
   "cell_type": "code",
   "execution_count": 49,
   "metadata": {},
   "outputs": [
    {
     "data": {
      "text/plain": [
       "array([ 4, 10, 18])"
      ]
     },
     "execution_count": 49,
     "metadata": {},
     "output_type": "execute_result"
    }
   ],
   "source": [
    "arr1 * arr2"
   ]
  },
  {
   "cell_type": "markdown",
   "metadata": {},
   "source": [
    "Pero, sí podemos multiplicar todos los elementos de un array de `numpy` por un solo número."
   ]
  },
  {
   "cell_type": "code",
   "execution_count": 50,
   "metadata": {},
   "outputs": [
    {
     "data": {
      "text/plain": [
       "array([10, 20, 30])"
      ]
     },
     "execution_count": 50,
     "metadata": {},
     "output_type": "execute_result"
    }
   ],
   "source": [
    "arr1 * 10"
   ]
  },
  {
   "cell_type": "markdown",
   "metadata": {},
   "source": [
    "Recuerda que todos los elementos de un array de `numpy` deben ser del mismo tipo de datos. Por lo tanto, si intentamos crear un array de `numpy` con elementos de diferentes tipos de datos, `numpy` los convertirá a un solo tipo de datos."
   ]
  },
  {
   "cell_type": "code",
   "execution_count": 22,
   "metadata": {},
   "outputs": [
    {
     "data": {
      "text/plain": [
       "array(['Denisse', 'Ana', '2'], dtype='<U11')"
      ]
     },
     "execution_count": 22,
     "metadata": {},
     "output_type": "execute_result"
    }
   ],
   "source": [
    "np_mixto = np.array(['Denisse', 'Ana', 2])\n",
    "np_mixto"
   ]
  },
  {
   "cell_type": "code",
   "execution_count": 25,
   "metadata": {},
   "outputs": [
    {
     "data": {
      "text/plain": [
       "dtype('<U11')"
      ]
     },
     "execution_count": 25,
     "metadata": {},
     "output_type": "execute_result"
    }
   ],
   "source": [
    "np_mixto.dtype"
   ]
  },
  {
   "cell_type": "markdown",
   "metadata": {},
   "source": [
    "Esto es diferente a lo que sucede con las listas. En este caso, `Python` **no** convierte los elementos a un solo tipo de datos."
   ]
  },
  {
   "cell_type": "code",
   "execution_count": 18,
   "metadata": {},
   "outputs": [
    {
     "data": {
      "text/plain": [
       "['Denisse', 'Ana', 2]"
      ]
     },
     "execution_count": 18,
     "metadata": {},
     "output_type": "execute_result"
    }
   ],
   "source": [
    "lista_mixta = ['Denisse', 'Ana', 2]\n",
    "lista_mixta"
   ]
  },
  {
   "cell_type": "code",
   "execution_count": 19,
   "metadata": {},
   "outputs": [
    {
     "name": "stdout",
     "output_type": "stream",
     "text": [
      "<class 'str'> <class 'int'>\n"
     ]
    }
   ],
   "source": [
    "print(type(lista_mixta[0]), type(lista_mixta[2]))"
   ]
  },
  {
   "cell_type": "markdown",
   "metadata": {},
   "source": [
    "Es posible usar `np.nan` para representar un valor faltante en un array de `numpy`. Por ejemplo, podemos crear un array de `numpy` con un valor faltante."
   ]
  },
  {
   "cell_type": "code",
   "execution_count": 73,
   "metadata": {},
   "outputs": [
    {
     "data": {
      "text/plain": [
       "array([ 2.,  3.,  4., nan,  5.])"
      ]
     },
     "execution_count": 73,
     "metadata": {},
     "output_type": "execute_result"
    }
   ],
   "source": [
    "np.array([2, 3, 4, np.nan, 5])"
   ]
  },
  {
   "cell_type": "markdown",
   "metadata": {},
   "source": [
    "Recuerda que si utilizamos caracteres para representar un valor faltante, `Python` no podrá realizar operaciones matemáticas con el array de `numpy`. Esto es porque convertirá todos los elementos a cadenas de caracteres."
   ]
  },
  {
   "cell_type": "code",
   "execution_count": 26,
   "metadata": {},
   "outputs": [
    {
     "data": {
      "text/plain": [
       "array(['2', '3', '4', 'NA', '5'], dtype='<U11')"
      ]
     },
     "execution_count": 26,
     "metadata": {},
     "output_type": "execute_result"
    }
   ],
   "source": [
    "np.array([2, 3, 4, 'NA', 5])"
   ]
  },
  {
   "cell_type": "markdown",
   "metadata": {},
   "source": [
    "Recuerda que también podemos usar índices para seleccionar datos de un array de `numpy`. Si tiene dos dimensiones, podemos usar dos índices separados por una coma. Abajo se muestra cómo seleccionar el primer elemento de la primera fila.\t"
   ]
  },
  {
   "cell_type": "code",
   "execution_count": 30,
   "metadata": {},
   "outputs": [
    {
     "data": {
      "text/plain": [
       "1"
      ]
     },
     "execution_count": 30,
     "metadata": {},
     "output_type": "execute_result"
    }
   ],
   "source": [
    "arr_2d[0, 0]"
   ]
  },
  {
   "cell_type": "markdown",
   "metadata": {},
   "source": [
    "Podemos utilizar esta información dentro de un `f-string` para imprimir el valor del array junto a una oración. Por ejemplo, podemos imprimir el valor del último elemento de la primera fila."
   ]
  },
  {
   "cell_type": "code",
   "execution_count": 31,
   "metadata": {},
   "outputs": [
    {
     "data": {
      "text/plain": [
       "'El último elemento de mi primera fila es 3'"
      ]
     },
     "execution_count": 31,
     "metadata": {},
     "output_type": "execute_result"
    }
   ],
   "source": [
    "f'El último elemento de mi primera fila es {arr_2d[0, -1]}'"
   ]
  },
  {
   "cell_type": "markdown",
   "metadata": {},
   "source": [
    "Verifiquemos si esto es correcto."
   ]
  },
  {
   "cell_type": "code",
   "execution_count": 32,
   "metadata": {},
   "outputs": [
    {
     "data": {
      "text/plain": [
       "array([[1, 2, 3],\n",
       "       [4, 5, 6]])"
      ]
     },
     "execution_count": 32,
     "metadata": {},
     "output_type": "execute_result"
    }
   ],
   "source": [
    "arr_2d"
   ]
  },
  {
   "cell_type": "markdown",
   "metadata": {},
   "source": [
    "Podemos también definir un rango de índices para seleccionar varios elementos de un array de `numpy` usando el operador `:`. Abajo seleccionamos los dos elementos de la segunda columna. Nota que si usamos solamente un `:` seleccionamos todos los elementos de esa dimensión."
   ]
  },
  {
   "cell_type": "code",
   "execution_count": 33,
   "metadata": {},
   "outputs": [
    {
     "data": {
      "text/plain": [
       "array([2, 5])"
      ]
     },
     "execution_count": 33,
     "metadata": {},
     "output_type": "execute_result"
    }
   ],
   "source": [
    "arr_2d[:, 1]"
   ]
  },
  {
   "cell_type": "markdown",
   "metadata": {},
   "source": [
    "## Utilizando condiciones para seleccionar elementos de un array de numpy"
   ]
  },
  {
   "cell_type": "code",
   "execution_count": 27,
   "metadata": {},
   "outputs": [
    {
     "data": {
      "text/plain": [
       "array([ 2.,  3.,  4., nan,  5.])"
      ]
     },
     "execution_count": 27,
     "metadata": {},
     "output_type": "execute_result"
    }
   ],
   "source": [
    "#Definamos un array\n",
    "nuevo_array = np.array([2, 3, 4, np.nan, 5])\n",
    "nuevo_array"
   ]
  },
  {
   "cell_type": "markdown",
   "metadata": {},
   "source": [
    "Podemos dar una condición entre corchetes (`[]`) para seleccionar elementos de un array de `numpy` que cumplan con esa condición. Por ejemplo, si queremos encontrar los elementos del array de `numpy` que son iguales a 4, podemos hacer lo siguiente."
   ]
  },
  {
   "cell_type": "code",
   "execution_count": 79,
   "metadata": {},
   "outputs": [
    {
     "data": {
      "text/plain": [
       "array([4.])"
      ]
     },
     "execution_count": 79,
     "metadata": {},
     "output_type": "execute_result"
    }
   ],
   "source": [
    "nuevo_array[nuevo_array == 4]"
   ]
  },
  {
   "cell_type": "markdown",
   "metadata": {},
   "source": [
    "Podemos dar varias condiciones para seleccionar elementos de un array de `numpy`. Cada condición debe estar dentro de un paréntesis y debemos usar los operadores `&` y `|` para indicar que queremos que se cumplan las condiciones que estamos dando entre los corchetes. Por ejemplo, si queremos encontrar los elementos del array de `numpy` que son igual a 4 o igual a 3, podemos hacer lo siguiente."
   ]
  },
  {
   "cell_type": "code",
   "execution_count": 86,
   "metadata": {},
   "outputs": [
    {
     "data": {
      "text/plain": [
       "array([3., 4.])"
      ]
     },
     "execution_count": 86,
     "metadata": {},
     "output_type": "execute_result"
    }
   ],
   "source": [
    "nuevo_array[(nuevo_array == 4) | (nuevo_array == 3)]"
   ]
  },
  {
   "cell_type": "markdown",
   "metadata": {},
   "source": [
    "Esta es la mejor opción cuando queremos extraer rangos de variables, por ejemplo, elementos que sean mayores a 2 pero menores a 5."
   ]
  },
  {
   "cell_type": "code",
   "execution_count": 88,
   "metadata": {},
   "outputs": [
    {
     "data": {
      "text/plain": [
       "array([3., 4.])"
      ]
     },
     "execution_count": 88,
     "metadata": {},
     "output_type": "execute_result"
    }
   ],
   "source": [
    "nuevo_array[(nuevo_array < 5) & (nuevo_array > 2)]"
   ]
  },
  {
   "cell_type": "markdown",
   "metadata": {},
   "source": [
    "## Leyendo datos tabulares con numpy desde un archivo\n",
    "Para leer archivos de texto tipo `csv` o `txt` podemos utilizar la función `numpy.loadtxt`. Esta función tiene varios parámetros, pero los más importantes son `fname` que es el nombre del archivo que queremos leer y `delimiter` que es el delimitador que separa los datos en el archivo. Por ejemplo, si queremos leer el archivo `prueba.csv` que contiene datos en formato `csv`, podemos hacer lo siguiente."
   ]
  },
  {
   "cell_type": "code",
   "execution_count": 43,
   "metadata": {},
   "outputs": [
    {
     "data": {
      "text/plain": [
       "array([[11.,  0., 19.,  8., 10.,  5.,  6.,  5.,  1.],\n",
       "       [ 9., 17.,  1., 13., 10., 20., 15., 10., 19.],\n",
       "       [14.,  4., 17., 13.,  4., 20., 19.,  4., 17.],\n",
       "       [ 8.,  8., 16.,  9., 10., 20., 12.,  1., 19.],\n",
       "       [13., 11., 20.,  1., 14.,  9., 12., 16.,  1.],\n",
       "       [ 2.,  5., 20.,  5., 14.,  8., 11., 15.,  1.],\n",
       "       [19., 14., 17., 12., 10., 10., 19., 18., 10.],\n",
       "       [13., 10., 14., 13.,  7., 14.,  4.,  2., 14.],\n",
       "       [10.,  6., 17.,  1.,  0.,  3., 16., 16.,  8.],\n",
       "       [15., 11., 16., 16., 14., 17., 17., 12.,  3.],\n",
       "       [12., 15., 16.,  3.,  9., 12., 15.,  3., 20.],\n",
       "       [17., 18.,  4.,  6.,  3., 14., 18., 16., 17.],\n",
       "       [ 2.,  3., 11.,  0.,  5., 20., 16.,  4.,  8.],\n",
       "       [16.,  7., 13., 20., 10.,  1.,  8., 17.,  1.],\n",
       "       [ 6., 18.,  8., 15., 14.,  4.,  7., 11.,  2.],\n",
       "       [ 0.,  6.,  7., 20.,  9.,  9.,  4., 14., 13.],\n",
       "       [18.,  7.,  7., 18., 16.,  0.,  4., 16., 10.],\n",
       "       [18., 10., 13.,  2.,  1., 11., 18.,  1.,  9.]])"
      ]
     },
     "execution_count": 43,
     "metadata": {},
     "output_type": "execute_result"
    }
   ],
   "source": [
    "array = np.loadtxt('prueba.csv', delimiter = ',')\n",
    "array"
   ]
  },
  {
   "cell_type": "markdown",
   "metadata": {},
   "source": [
    "Ahora podemos hacer operaciones matemáticas con los datos que acabamos de leer."
   ]
  },
  {
   "cell_type": "code",
   "execution_count": 3,
   "metadata": {},
   "outputs": [
    {
     "data": {
      "text/plain": [
       "array([[22.,  0., 38., 16., 20., 10., 12., 10.,  2.],\n",
       "       [18., 34.,  2., 26., 20., 40., 30., 20., 38.],\n",
       "       [28.,  8., 34., 26.,  8., 40., 38.,  8., 34.],\n",
       "       [16., 16., 32., 18., 20., 40., 24.,  2., 38.],\n",
       "       [26., 22., 40.,  2., 28., 18., 24., 32.,  2.],\n",
       "       [ 4., 10., 40., 10., 28., 16., 22., 30.,  2.],\n",
       "       [38., 28., 34., 24., 20., 20., 38., 36., 20.],\n",
       "       [26., 20., 28., 26., 14., 28.,  8.,  4., 28.],\n",
       "       [20., 12., 34.,  2.,  0.,  6., 32., 32., 16.],\n",
       "       [30., 22., 32., 32., 28., 34., 34., 24.,  6.],\n",
       "       [24., 30., 32.,  6., 18., 24., 30.,  6., 40.],\n",
       "       [34., 36.,  8., 12.,  6., 28., 36., 32., 34.],\n",
       "       [ 4.,  6., 22.,  0., 10., 40., 32.,  8., 16.],\n",
       "       [32., 14., 26., 40., 20.,  2., 16., 34.,  2.],\n",
       "       [12., 36., 16., 30., 28.,  8., 14., 22.,  4.],\n",
       "       [ 0., 12., 14., 40., 18., 18.,  8., 28., 26.],\n",
       "       [36., 14., 14., 36., 32.,  0.,  8., 32., 20.],\n",
       "       [36., 20., 26.,  4.,  2., 22., 36.,  2., 18.]])"
      ]
     },
     "execution_count": 3,
     "metadata": {},
     "output_type": "execute_result"
    }
   ],
   "source": [
    "array = array*2\n",
    "array"
   ]
  },
  {
   "cell_type": "markdown",
   "metadata": {},
   "source": [
    "Además podemos guardar el resultado usando la función `numpy.savetxt`. Esta función tiene varios parámetros, pero los más importantes son `fname` que es el nombre del archivo que queremos guardar y `delimiter` que es el delimitador que queremos usar para separar los datos en el archivo. Por ejemplo, si queremos guardar el resultado de la operación matemática que acabamos de hacer en un archivo `csv`, podemos hacer lo siguiente."
   ]
  },
  {
   "cell_type": "code",
   "execution_count": 4,
   "metadata": {},
   "outputs": [],
   "source": [
    "np.savetxt('prueba3.csv', array, delimiter = ',')"
   ]
  },
  {
   "cell_type": "markdown",
   "metadata": {},
   "source": [
    "No es posible guardar un array de `numpy` como un archivo de excel directamente. Pero podemos transformar un array de `numpy` a un dataframe de `pandas` y luego guardar el dataframe como un archivo de excel. Para hacer esto, primero debemos importar la librería `pandas` y luego usar la función `pandas.DataFrame` para crear un dataframe de `pandas` a partir del array de `numpy`. Luego guardamos el dataframe como un archivo de excel usando la función `pandas.to_excel`. "
   ]
  },
  {
   "cell_type": "code",
   "execution_count": 5,
   "metadata": {},
   "outputs": [],
   "source": [
    "import pandas as pd"
   ]
  },
  {
   "cell_type": "markdown",
   "metadata": {},
   "source": [
    "Creamos un dataframe de `pandas` a partir del array de `numpy`."
   ]
  },
  {
   "cell_type": "code",
   "execution_count": 8,
   "metadata": {},
   "outputs": [
    {
     "data": {
      "text/html": [
       "<div>\n",
       "<style scoped>\n",
       "    .dataframe tbody tr th:only-of-type {\n",
       "        vertical-align: middle;\n",
       "    }\n",
       "\n",
       "    .dataframe tbody tr th {\n",
       "        vertical-align: top;\n",
       "    }\n",
       "\n",
       "    .dataframe thead th {\n",
       "        text-align: right;\n",
       "    }\n",
       "</style>\n",
       "<table border=\"1\" class=\"dataframe\">\n",
       "  <thead>\n",
       "    <tr style=\"text-align: right;\">\n",
       "      <th></th>\n",
       "      <th>0</th>\n",
       "      <th>1</th>\n",
       "      <th>2</th>\n",
       "      <th>3</th>\n",
       "      <th>4</th>\n",
       "      <th>5</th>\n",
       "      <th>6</th>\n",
       "      <th>7</th>\n",
       "      <th>8</th>\n",
       "    </tr>\n",
       "  </thead>\n",
       "  <tbody>\n",
       "    <tr>\n",
       "      <th>0</th>\n",
       "      <td>22.0</td>\n",
       "      <td>0.0</td>\n",
       "      <td>38.0</td>\n",
       "      <td>16.0</td>\n",
       "      <td>20.0</td>\n",
       "      <td>10.0</td>\n",
       "      <td>12.0</td>\n",
       "      <td>10.0</td>\n",
       "      <td>2.0</td>\n",
       "    </tr>\n",
       "    <tr>\n",
       "      <th>1</th>\n",
       "      <td>18.0</td>\n",
       "      <td>34.0</td>\n",
       "      <td>2.0</td>\n",
       "      <td>26.0</td>\n",
       "      <td>20.0</td>\n",
       "      <td>40.0</td>\n",
       "      <td>30.0</td>\n",
       "      <td>20.0</td>\n",
       "      <td>38.0</td>\n",
       "    </tr>\n",
       "    <tr>\n",
       "      <th>2</th>\n",
       "      <td>28.0</td>\n",
       "      <td>8.0</td>\n",
       "      <td>34.0</td>\n",
       "      <td>26.0</td>\n",
       "      <td>8.0</td>\n",
       "      <td>40.0</td>\n",
       "      <td>38.0</td>\n",
       "      <td>8.0</td>\n",
       "      <td>34.0</td>\n",
       "    </tr>\n",
       "    <tr>\n",
       "      <th>3</th>\n",
       "      <td>16.0</td>\n",
       "      <td>16.0</td>\n",
       "      <td>32.0</td>\n",
       "      <td>18.0</td>\n",
       "      <td>20.0</td>\n",
       "      <td>40.0</td>\n",
       "      <td>24.0</td>\n",
       "      <td>2.0</td>\n",
       "      <td>38.0</td>\n",
       "    </tr>\n",
       "    <tr>\n",
       "      <th>4</th>\n",
       "      <td>26.0</td>\n",
       "      <td>22.0</td>\n",
       "      <td>40.0</td>\n",
       "      <td>2.0</td>\n",
       "      <td>28.0</td>\n",
       "      <td>18.0</td>\n",
       "      <td>24.0</td>\n",
       "      <td>32.0</td>\n",
       "      <td>2.0</td>\n",
       "    </tr>\n",
       "    <tr>\n",
       "      <th>5</th>\n",
       "      <td>4.0</td>\n",
       "      <td>10.0</td>\n",
       "      <td>40.0</td>\n",
       "      <td>10.0</td>\n",
       "      <td>28.0</td>\n",
       "      <td>16.0</td>\n",
       "      <td>22.0</td>\n",
       "      <td>30.0</td>\n",
       "      <td>2.0</td>\n",
       "    </tr>\n",
       "    <tr>\n",
       "      <th>6</th>\n",
       "      <td>38.0</td>\n",
       "      <td>28.0</td>\n",
       "      <td>34.0</td>\n",
       "      <td>24.0</td>\n",
       "      <td>20.0</td>\n",
       "      <td>20.0</td>\n",
       "      <td>38.0</td>\n",
       "      <td>36.0</td>\n",
       "      <td>20.0</td>\n",
       "    </tr>\n",
       "    <tr>\n",
       "      <th>7</th>\n",
       "      <td>26.0</td>\n",
       "      <td>20.0</td>\n",
       "      <td>28.0</td>\n",
       "      <td>26.0</td>\n",
       "      <td>14.0</td>\n",
       "      <td>28.0</td>\n",
       "      <td>8.0</td>\n",
       "      <td>4.0</td>\n",
       "      <td>28.0</td>\n",
       "    </tr>\n",
       "    <tr>\n",
       "      <th>8</th>\n",
       "      <td>20.0</td>\n",
       "      <td>12.0</td>\n",
       "      <td>34.0</td>\n",
       "      <td>2.0</td>\n",
       "      <td>0.0</td>\n",
       "      <td>6.0</td>\n",
       "      <td>32.0</td>\n",
       "      <td>32.0</td>\n",
       "      <td>16.0</td>\n",
       "    </tr>\n",
       "    <tr>\n",
       "      <th>9</th>\n",
       "      <td>30.0</td>\n",
       "      <td>22.0</td>\n",
       "      <td>32.0</td>\n",
       "      <td>32.0</td>\n",
       "      <td>28.0</td>\n",
       "      <td>34.0</td>\n",
       "      <td>34.0</td>\n",
       "      <td>24.0</td>\n",
       "      <td>6.0</td>\n",
       "    </tr>\n",
       "    <tr>\n",
       "      <th>10</th>\n",
       "      <td>24.0</td>\n",
       "      <td>30.0</td>\n",
       "      <td>32.0</td>\n",
       "      <td>6.0</td>\n",
       "      <td>18.0</td>\n",
       "      <td>24.0</td>\n",
       "      <td>30.0</td>\n",
       "      <td>6.0</td>\n",
       "      <td>40.0</td>\n",
       "    </tr>\n",
       "    <tr>\n",
       "      <th>11</th>\n",
       "      <td>34.0</td>\n",
       "      <td>36.0</td>\n",
       "      <td>8.0</td>\n",
       "      <td>12.0</td>\n",
       "      <td>6.0</td>\n",
       "      <td>28.0</td>\n",
       "      <td>36.0</td>\n",
       "      <td>32.0</td>\n",
       "      <td>34.0</td>\n",
       "    </tr>\n",
       "    <tr>\n",
       "      <th>12</th>\n",
       "      <td>4.0</td>\n",
       "      <td>6.0</td>\n",
       "      <td>22.0</td>\n",
       "      <td>0.0</td>\n",
       "      <td>10.0</td>\n",
       "      <td>40.0</td>\n",
       "      <td>32.0</td>\n",
       "      <td>8.0</td>\n",
       "      <td>16.0</td>\n",
       "    </tr>\n",
       "    <tr>\n",
       "      <th>13</th>\n",
       "      <td>32.0</td>\n",
       "      <td>14.0</td>\n",
       "      <td>26.0</td>\n",
       "      <td>40.0</td>\n",
       "      <td>20.0</td>\n",
       "      <td>2.0</td>\n",
       "      <td>16.0</td>\n",
       "      <td>34.0</td>\n",
       "      <td>2.0</td>\n",
       "    </tr>\n",
       "    <tr>\n",
       "      <th>14</th>\n",
       "      <td>12.0</td>\n",
       "      <td>36.0</td>\n",
       "      <td>16.0</td>\n",
       "      <td>30.0</td>\n",
       "      <td>28.0</td>\n",
       "      <td>8.0</td>\n",
       "      <td>14.0</td>\n",
       "      <td>22.0</td>\n",
       "      <td>4.0</td>\n",
       "    </tr>\n",
       "    <tr>\n",
       "      <th>15</th>\n",
       "      <td>0.0</td>\n",
       "      <td>12.0</td>\n",
       "      <td>14.0</td>\n",
       "      <td>40.0</td>\n",
       "      <td>18.0</td>\n",
       "      <td>18.0</td>\n",
       "      <td>8.0</td>\n",
       "      <td>28.0</td>\n",
       "      <td>26.0</td>\n",
       "    </tr>\n",
       "    <tr>\n",
       "      <th>16</th>\n",
       "      <td>36.0</td>\n",
       "      <td>14.0</td>\n",
       "      <td>14.0</td>\n",
       "      <td>36.0</td>\n",
       "      <td>32.0</td>\n",
       "      <td>0.0</td>\n",
       "      <td>8.0</td>\n",
       "      <td>32.0</td>\n",
       "      <td>20.0</td>\n",
       "    </tr>\n",
       "    <tr>\n",
       "      <th>17</th>\n",
       "      <td>36.0</td>\n",
       "      <td>20.0</td>\n",
       "      <td>26.0</td>\n",
       "      <td>4.0</td>\n",
       "      <td>2.0</td>\n",
       "      <td>22.0</td>\n",
       "      <td>36.0</td>\n",
       "      <td>2.0</td>\n",
       "      <td>18.0</td>\n",
       "    </tr>\n",
       "  </tbody>\n",
       "</table>\n",
       "</div>"
      ],
      "text/plain": [
       "       0     1     2     3     4     5     6     7     8\n",
       "0   22.0   0.0  38.0  16.0  20.0  10.0  12.0  10.0   2.0\n",
       "1   18.0  34.0   2.0  26.0  20.0  40.0  30.0  20.0  38.0\n",
       "2   28.0   8.0  34.0  26.0   8.0  40.0  38.0   8.0  34.0\n",
       "3   16.0  16.0  32.0  18.0  20.0  40.0  24.0   2.0  38.0\n",
       "4   26.0  22.0  40.0   2.0  28.0  18.0  24.0  32.0   2.0\n",
       "5    4.0  10.0  40.0  10.0  28.0  16.0  22.0  30.0   2.0\n",
       "6   38.0  28.0  34.0  24.0  20.0  20.0  38.0  36.0  20.0\n",
       "7   26.0  20.0  28.0  26.0  14.0  28.0   8.0   4.0  28.0\n",
       "8   20.0  12.0  34.0   2.0   0.0   6.0  32.0  32.0  16.0\n",
       "9   30.0  22.0  32.0  32.0  28.0  34.0  34.0  24.0   6.0\n",
       "10  24.0  30.0  32.0   6.0  18.0  24.0  30.0   6.0  40.0\n",
       "11  34.0  36.0   8.0  12.0   6.0  28.0  36.0  32.0  34.0\n",
       "12   4.0   6.0  22.0   0.0  10.0  40.0  32.0   8.0  16.0\n",
       "13  32.0  14.0  26.0  40.0  20.0   2.0  16.0  34.0   2.0\n",
       "14  12.0  36.0  16.0  30.0  28.0   8.0  14.0  22.0   4.0\n",
       "15   0.0  12.0  14.0  40.0  18.0  18.0   8.0  28.0  26.0\n",
       "16  36.0  14.0  14.0  36.0  32.0   0.0   8.0  32.0  20.0\n",
       "17  36.0  20.0  26.0   4.0   2.0  22.0  36.0   2.0  18.0"
      ]
     },
     "execution_count": 8,
     "metadata": {},
     "output_type": "execute_result"
    }
   ],
   "source": [
    "df = pd.DataFrame(array)\n",
    "df"
   ]
  },
  {
   "cell_type": "markdown",
   "metadata": {},
   "source": [
    "Ahora guardamos el resultado como archivo de excel usando la función `pandas.to_excel`."
   ]
  },
  {
   "cell_type": "code",
   "execution_count": 11,
   "metadata": {},
   "outputs": [],
   "source": [
    "df.to_excel('prueba.xlsx')"
   ]
  },
  {
   "cell_type": "markdown",
   "metadata": {},
   "source": [
    "Si queremos cambiar el valor de los elementos de un array que cumplan cierta condición podemos seleccionarlo usando condiciones tal como vimos más arriba. Por ejemplo, si queremos cambiar todos los elementos del array que sean menores a 5 pero mayores a 0 a valores faltantes, podemos:  \n",
    "- Definir la condición que queremos que cumplan los elementos que queremos cambiar.  \n",
    "- Seleccionar los elementos que cumplan con la condición.\n",
    "- Cambiar los elementos seleccionados a `np.nan`."
   ]
  },
  {
   "cell_type": "code",
   "execution_count": 45,
   "metadata": {},
   "outputs": [
    {
     "data": {
      "text/plain": [
       "array([1., 1., 4., 4., 4., 1., 1., 1., 2., 1., 4., 2., 1., 3., 3., 3., 3.,\n",
       "       4., 3., 2., 3., 4., 1., 1., 4., 2., 4., 4., 2., 1., 1.])"
      ]
     },
     "execution_count": 45,
     "metadata": {},
     "output_type": "execute_result"
    }
   ],
   "source": [
    "array[(array > 0) & (array < 5)]"
   ]
  },
  {
   "cell_type": "markdown",
   "metadata": {},
   "source": [
    "Si queremos aplicar varias funciones a esta selección de números podemos guardar la máscara producida al aplicar cierta condición."
   ]
  },
  {
   "cell_type": "code",
   "execution_count": 51,
   "metadata": {},
   "outputs": [
    {
     "data": {
      "text/plain": [
       "array([[False, False, False, False, False, False, False, False,  True],\n",
       "       [False, False,  True, False, False, False, False, False, False],\n",
       "       [False,  True, False, False,  True, False, False,  True, False],\n",
       "       [False, False, False, False, False, False, False,  True, False],\n",
       "       [False, False, False,  True, False, False, False, False,  True],\n",
       "       [ True, False, False, False, False, False, False, False,  True],\n",
       "       [False, False, False, False, False, False, False, False, False],\n",
       "       [False, False, False, False, False, False,  True,  True, False],\n",
       "       [False, False, False,  True, False,  True, False, False, False],\n",
       "       [False, False, False, False, False, False, False, False,  True],\n",
       "       [False, False, False,  True, False, False, False,  True, False],\n",
       "       [False, False,  True, False,  True, False, False, False, False],\n",
       "       [ True,  True, False, False, False, False, False,  True, False],\n",
       "       [False, False, False, False, False,  True, False, False,  True],\n",
       "       [False, False, False, False, False,  True, False, False,  True],\n",
       "       [False, False, False, False, False, False,  True, False, False],\n",
       "       [False, False, False, False, False, False,  True, False, False],\n",
       "       [False, False, False,  True,  True, False, False,  True, False]])"
      ]
     },
     "execution_count": 51,
     "metadata": {},
     "output_type": "execute_result"
    }
   ],
   "source": [
    "(array > 0) & (array < 5)"
   ]
  },
  {
   "cell_type": "markdown",
   "metadata": {},
   "source": [
    "Esto nos da una serie de booleanos que podemos guardar en una variable para asignarlos a un array de `numpy`."
   ]
  },
  {
   "cell_type": "code",
   "execution_count": 52,
   "metadata": {},
   "outputs": [],
   "source": [
    "mascara = (array > 0) & (array < 5)"
   ]
  },
  {
   "cell_type": "markdown",
   "metadata": {},
   "source": [
    "Ahora aplicamos esta máscara al array original y nos dará el mismo resultado que cuando aplicamos la condición directamente al array."
   ]
  },
  {
   "cell_type": "code",
   "execution_count": 53,
   "metadata": {},
   "outputs": [
    {
     "data": {
      "text/plain": [
       "array([1., 1., 4., 4., 4., 1., 1., 1., 2., 1., 4., 2., 1., 3., 3., 3., 3.,\n",
       "       4., 3., 2., 3., 4., 1., 1., 4., 2., 4., 4., 2., 1., 1.])"
      ]
     },
     "execution_count": 53,
     "metadata": {},
     "output_type": "execute_result"
    }
   ],
   "source": [
    "array[mascara]"
   ]
  },
  {
   "cell_type": "markdown",
   "metadata": {},
   "source": [
    "Podemos verificar que los resultados son los mismos de la siguiente manera."
   ]
  },
  {
   "cell_type": "code",
   "execution_count": 54,
   "metadata": {},
   "outputs": [
    {
     "data": {
      "text/plain": [
       "array([ True,  True,  True,  True,  True,  True,  True,  True,  True,\n",
       "        True,  True,  True,  True,  True,  True,  True,  True,  True,\n",
       "        True,  True,  True,  True,  True,  True,  True,  True,  True,\n",
       "        True,  True,  True,  True])"
      ]
     },
     "execution_count": 54,
     "metadata": {},
     "output_type": "execute_result"
    }
   ],
   "source": [
    "array[(array > 0) & (array < 5)] == array[mascara]"
   ]
  },
  {
   "cell_type": "markdown",
   "metadata": {},
   "source": [
    "Usando cualquiera de los dos métodos podemos ahora cambiar los elementos seleccionados a `np.nan`."
   ]
  },
  {
   "cell_type": "code",
   "execution_count": 55,
   "metadata": {},
   "outputs": [],
   "source": [
    "array[mascara] = np.nan"
   ]
  },
  {
   "cell_type": "markdown",
   "metadata": {},
   "source": [
    "Ahora verificamos los resultados."
   ]
  },
  {
   "cell_type": "code",
   "execution_count": 56,
   "metadata": {},
   "outputs": [
    {
     "data": {
      "text/plain": [
       "array([[11.,  0., 19.,  8., 10.,  5.,  6.,  5., nan],\n",
       "       [ 9., 17., nan, 13., 10., 20., 15., 10., 19.],\n",
       "       [14., nan, 17., 13., nan, 20., 19., nan, 17.],\n",
       "       [ 8.,  8., 16.,  9., 10., 20., 12., nan, 19.],\n",
       "       [13., 11., 20., nan, 14.,  9., 12., 16., nan],\n",
       "       [nan,  5., 20.,  5., 14.,  8., 11., 15., nan],\n",
       "       [19., 14., 17., 12., 10., 10., 19., 18., 10.],\n",
       "       [13., 10., 14., 13.,  7., 14., nan, nan, 14.],\n",
       "       [10.,  6., 17., nan,  0., nan, 16., 16.,  8.],\n",
       "       [15., 11., 16., 16., 14., 17., 17., 12., nan],\n",
       "       [12., 15., 16., nan,  9., 12., 15., nan, 20.],\n",
       "       [17., 18., nan,  6., nan, 14., 18., 16., 17.],\n",
       "       [nan, nan, 11.,  0.,  5., 20., 16., nan,  8.],\n",
       "       [16.,  7., 13., 20., 10., nan,  8., 17., nan],\n",
       "       [ 6., 18.,  8., 15., 14., nan,  7., 11., nan],\n",
       "       [ 0.,  6.,  7., 20.,  9.,  9., nan, 14., 13.],\n",
       "       [18.,  7.,  7., 18., 16.,  0., nan, 16., 10.],\n",
       "       [18., 10., 13., nan, nan, 11., 18., nan,  9.]])"
      ]
     },
     "execution_count": 56,
     "metadata": {},
     "output_type": "execute_result"
    }
   ],
   "source": [
    "array"
   ]
  },
  {
   "cell_type": "markdown",
   "metadata": {},
   "source": [
    "Podemos también acceder a archivos de texto disponibles en internet usando la misma función de `numpy.loadtxt`. Por ejemplo, si queremos leer el archivo `prueba.csv` que está disponible en nuestro repositorio.  \n",
    "  \n",
    "El arhivo en nuestro repositorio incluye caracteres, por lo que si queremos acceder a todos los elementos en esta tabla, debemos especificar que el tipo de datos es una cadena de caracteres. Para hacer esto, podemos usar el parámetro `dtype` y darle el valor `str`."
   ]
  },
  {
   "cell_type": "code",
   "execution_count": 35,
   "metadata": {},
   "outputs": [
    {
     "data": {
      "text/plain": [
       "array([['\\ufeffNombre', 'Edad', 'Peso_kg', 'Altura_m'],\n",
       "       ['Ana', '33', '60', '1.6'],\n",
       "       ['Manuel', '38', '80', '1.82'],\n",
       "       ['Daniela', '29', '70', '1.54'],\n",
       "       ['Jose', '25', '100', '1.7'],\n",
       "       ['Sara', '40', '95', '1.75']], dtype='<U8')"
      ]
     },
     "execution_count": 35,
     "metadata": {},
     "output_type": "execute_result"
    }
   ],
   "source": [
    "prueba = np.loadtxt('https://raw.githubusercontent.com/laboratoriolide/new-dimensions/main/Python/prueba2.csv',\n",
    " delimiter = ',',  dtype = 'str')\n",
    "prueba"
   ]
  },
  {
   "cell_type": "markdown",
   "metadata": {},
   "source": [
    "Recuerda que el URL que usamos arriba lo obtuvimos al presionar la opción `Raw` en el archivo `prueba.csv` en nuestro repositorio.  \n",
    "  \n",
    "Si queremos ignorar la primera fila de este archivo que contiene los nombres de las columnas, podemos utilizar el parámetro `skiprows` y darle el valor `1`. Esto quiere decir que vamos a ignorar la primera file en este archivo. Nota que aún debemos especificar el parámetro `dtype` para que `numpy` sepa que todos los elementos en este archivo son cadenas de caracteres, ya que la primera columna contiene caracteres."
   ]
  },
  {
   "cell_type": "code",
   "execution_count": 17,
   "metadata": {},
   "outputs": [
    {
     "data": {
      "text/plain": [
       "array([['Ana', '33', '60', '1.6'],\n",
       "       ['Manuel', '38', '80', '1.82'],\n",
       "       ['Daniela', '29', '70', '1.54'],\n",
       "       ['Jose', '25', '100', '1.7'],\n",
       "       ['Sara', '40', '95', '1.75']], dtype='<U7')"
      ]
     },
     "execution_count": 17,
     "metadata": {},
     "output_type": "execute_result"
    }
   ],
   "source": [
    "np.loadtxt('https://raw.githubusercontent.com/laboratoriolide/new-dimensions/main/Python/prueba2.csv',\n",
    " delimiter = ',', skiprows = 1, dtype = 'str')"
   ]
  },
  {
   "cell_type": "markdown",
   "metadata": {},
   "source": [
    "Si queremos guardar los nombres de la columnas (primera fila) y los datos de la primera columna (`Nombre`), podemos hacer lo siguiente."
   ]
  },
  {
   "cell_type": "code",
   "execution_count": 37,
   "metadata": {},
   "outputs": [
    {
     "name": "stdout",
     "output_type": "stream",
     "text": [
      "['\\ufeffNombre' 'Edad' 'Peso_kg' 'Altura_m'] ['Ana' 'Manuel' 'Daniela' 'Jose' 'Sara']\n"
     ]
    }
   ],
   "source": [
    "columnas = prueba[0, :]\n",
    "nombres = prueba[1:, 0]\n",
    "print(columnas, nombres)"
   ]
  },
  {
   "cell_type": "markdown",
   "metadata": {},
   "source": [
    "Si solo queremos mantener los números en nuestro archivo, podemos no solo ignorar filas que contienen caracteres, sino también escoger las columnas que contienen números. Para hacer esto, podemos usar el parámetro `usecols` y darle una lista con los índices de las columnas que queremos mantener. Por ejemplo, si queremos mantener las columnas 1, 2 y 3, podemos hacer lo siguiente. "
   ]
  },
  {
   "cell_type": "code",
   "execution_count": 38,
   "metadata": {},
   "outputs": [
    {
     "data": {
      "text/plain": [
       "array([[ 33.  ,  60.  ,   1.6 ],\n",
       "       [ 38.  ,  80.  ,   1.82],\n",
       "       [ 29.  ,  70.  ,   1.54],\n",
       "       [ 25.  , 100.  ,   1.7 ],\n",
       "       [ 40.  ,  95.  ,   1.75]])"
      ]
     },
     "execution_count": 38,
     "metadata": {},
     "output_type": "execute_result"
    }
   ],
   "source": [
    "datos = np.loadtxt('https://raw.githubusercontent.com/laboratoriolide/new-dimensions/main/Python/prueba2.csv',\n",
    " delimiter = ',', skiprows = 1, usecols = [1, 2, 3])\n",
    "datos"
   ]
  },
  {
   "cell_type": "markdown",
   "metadata": {},
   "source": [
    "Nota que no podemos utilizar rangos en el parámetro `usecols` porque esto resultará en un error."
   ]
  },
  {
   "cell_type": "code",
   "execution_count": 39,
   "metadata": {},
   "outputs": [
    {
     "ename": "SyntaxError",
     "evalue": "invalid syntax (1321252751.py, line 2)",
     "output_type": "error",
     "traceback": [
      "\u001b[1;36m  Cell \u001b[1;32mIn[39], line 2\u001b[1;36m\u001b[0m\n\u001b[1;33m    delimiter = ',', skiprows = 1, usecols = [1:3])\u001b[0m\n\u001b[1;37m                                               ^\u001b[0m\n\u001b[1;31mSyntaxError\u001b[0m\u001b[1;31m:\u001b[0m invalid syntax\n"
     ]
    }
   ],
   "source": [
    "np.loadtxt('https://raw.githubusercontent.com/laboratoriolide/new-dimensions/main/Python/prueba2.csv',\n",
    " delimiter = ',', skiprows = 1, usecols = [1:3])"
   ]
  },
  {
   "cell_type": "markdown",
   "metadata": {},
   "source": [
    "## Funciones matemáticas con arrays de `numpy`\n",
    "El paquete `numpy` incluye varias funciones matemáticas que podemos utilizar con arrays de `numpy`. Por ejemplo, podemos calcular el promedio de todos los elementos en un array de `numpy` usando la función `numpy.mean`."
   ]
  },
  {
   "cell_type": "code",
   "execution_count": 42,
   "metadata": {},
   "outputs": [
    {
     "data": {
      "text/plain": [
       "33.0"
      ]
     },
     "execution_count": 42,
     "metadata": {},
     "output_type": "execute_result"
    }
   ],
   "source": [
    "np.mean(datos[:,0])"
   ]
  },
  {
   "cell_type": "markdown",
   "metadata": {},
   "source": [
    "Nota que esto calculará el promedio de todos los elementos en el array de `numpy`. También podemos sumar elementos de una array de `numpy` usando la función `numpy.sum`."
   ]
  },
  {
   "cell_type": "code",
   "execution_count": 40,
   "metadata": {},
   "outputs": [
    {
     "data": {
      "text/plain": [
       "165.0"
      ]
     },
     "execution_count": 40,
     "metadata": {},
     "output_type": "execute_result"
    }
   ],
   "source": [
    "np.sum(datos[:,0])"
   ]
  },
  {
   "cell_type": "markdown",
   "metadata": {},
   "source": [
    "En este caso, la función `numpy.sum` suma todos los elementos de la primera columna en el array de `numpy`.  \n",
    "  \n",
    "Podemos también calcular la desviación estándar de los elementos de la primera fila usando la función `numpy.std`."
   ]
  },
  {
   "cell_type": "code",
   "execution_count": 41,
   "metadata": {},
   "outputs": [
    {
     "data": {
      "text/plain": [
       "23.864245687266596"
      ]
     },
     "execution_count": 41,
     "metadata": {},
     "output_type": "execute_result"
    }
   ],
   "source": [
    "np.std(datos[0, :])"
   ]
  },
  {
   "cell_type": "markdown",
   "metadata": {},
   "source": [
    "Podemos también definir un rango de valores usando la función `numpy.arange`. Esta función tiene varios parámetros, pero los más importantes son `start` que es el valor inicial del rango, `stop` que es el valor final del rango y `step` que es el tamaño del paso entre los valores en el rango. Por ejemplo, si queremos crear un rango de valores de 0 a 10 con un paso de 2, podemos hacer lo siguiente."
   ]
  },
  {
   "cell_type": "code",
   "execution_count": 58,
   "metadata": {},
   "outputs": [
    {
     "data": {
      "text/plain": [
       "array([ 0,  2,  4,  6,  8, 10])"
      ]
     },
     "execution_count": 58,
     "metadata": {},
     "output_type": "execute_result"
    }
   ],
   "source": [
    "np.arange(0, 11, 2)"
   ]
  },
  {
   "cell_type": "markdown",
   "metadata": {},
   "source": [
    "Recuerda que el valor final del rango no está incluido. Por lo tanto, si queremos incluir el valor final del rango, debemos sumar 1 al valor final.  "
   ]
  },
  {
   "cell_type": "markdown",
   "metadata": {},
   "source": [
    "## Introducción a bucles\n",
    "Podemos usar estos rangos para calcular promedios por cada columna en un array de `numpy`. Abajo definimos un bucle `for` que itera sobre los índices de las columnas en el array de `numpy`. Recordemos que podemos ver los elementos de cada dimensión de un array con shape."
   ]
  },
  {
   "cell_type": "code",
   "execution_count": 61,
   "metadata": {},
   "outputs": [
    {
     "data": {
      "text/plain": [
       "(5, 3)"
      ]
     },
     "execution_count": 61,
     "metadata": {},
     "output_type": "execute_result"
    }
   ],
   "source": [
    "datos.shape"
   ]
  },
  {
   "cell_type": "markdown",
   "metadata": {},
   "source": [
    "El primer valor se refiere a las filas, mientras que el segundo se refiere a las columnas. Si queremos utilizar el número de columnas, entonces debemos utilizar el índice 1."
   ]
  },
  {
   "cell_type": "code",
   "execution_count": 63,
   "metadata": {},
   "outputs": [
    {
     "data": {
      "text/plain": [
       "3"
      ]
     },
     "execution_count": 63,
     "metadata": {},
     "output_type": "execute_result"
    }
   ],
   "source": [
    "datos.shape[1]"
   ]
  },
  {
   "cell_type": "markdown",
   "metadata": {},
   "source": [
    "Ahora utilizamos esta información para definir un rango de valores que incluye todos los índices de las columnas en el array de `numpy`."
   ]
  },
  {
   "cell_type": "code",
   "execution_count": 64,
   "metadata": {},
   "outputs": [
    {
     "data": {
      "text/plain": [
       "array([0, 1, 2])"
      ]
     },
     "execution_count": 64,
     "metadata": {},
     "output_type": "execute_result"
    }
   ],
   "source": [
    "np.arange(0, datos.shape[1])"
   ]
  },
  {
   "cell_type": "markdown",
   "metadata": {},
   "source": [
    "Esto se convertirá en nuestro índice en el bucle `for`. Este índice deberá ser pasado como el segundo índice (que se refiere a las columnas) para calcular los promedios."
   ]
  },
  {
   "cell_type": "code",
   "execution_count": 65,
   "metadata": {},
   "outputs": [
    {
     "name": "stdout",
     "output_type": "stream",
     "text": [
      "33.0\n",
      "81.0\n",
      "1.682\n"
     ]
    }
   ],
   "source": [
    "for col in np.arange(0, datos.shape[1]):\n",
    "      print(np.mean(datos[:, col]))"
   ]
  },
  {
   "cell_type": "markdown",
   "metadata": {},
   "source": [
    "Sin embargo, esto lo podemos hacer de manera mucho más rápida utilizando la función `numpy.mean` y el parámetro `axis`. Este parámetro nos permite calcular el promedio por cada fila (`axis = 1`) o por cada columna (`axis = 0`). Por ejemplo, si queremos calcular el promedio por cada columna, podemos hacer lo siguiente."
   ]
  },
  {
   "cell_type": "code",
   "execution_count": 66,
   "metadata": {},
   "outputs": [
    {
     "data": {
      "text/plain": [
       "array([33.   , 81.   ,  1.682])"
      ]
     },
     "execution_count": 66,
     "metadata": {},
     "output_type": "execute_result"
    }
   ],
   "source": [
    "np.mean(datos, axis = 0)"
   ]
  },
  {
   "cell_type": "markdown",
   "metadata": {},
   "source": [
    "Como puedes ver, el resultado es el mismo que cuando utilizamos un bucle `for`.  \n",
    "\n",
    "Podemos calcular el promedio por fila de la misma manera, sea utilizando un bucle `for` o utilizando el parámetro `axis` en la función `numpy.mean`."
   ]
  },
  {
   "cell_type": "code",
   "execution_count": 67,
   "metadata": {},
   "outputs": [
    {
     "name": "stdout",
     "output_type": "stream",
     "text": [
      "31.53333333333333\n",
      "39.94\n",
      "33.513333333333335\n",
      "42.233333333333334\n",
      "45.583333333333336\n"
     ]
    }
   ],
   "source": [
    "#Con bucle\n",
    "for row in np.arange(0, datos.shape[0]):\n",
    "      print(np.mean(datos[row,:]))"
   ]
  },
  {
   "cell_type": "code",
   "execution_count": 68,
   "metadata": {},
   "outputs": [
    {
     "data": {
      "text/plain": [
       "array([31.53333333, 39.94      , 33.51333333, 42.23333333, 45.58333333])"
      ]
     },
     "execution_count": 68,
     "metadata": {},
     "output_type": "execute_result"
    }
   ],
   "source": [
    "#Directamente en numpy utilizando axis = 1\n",
    "np.mean(datos, axis = 1)"
   ]
  }
 ],
 "metadata": {
  "kernelspec": {
   "display_name": "new_dimensions",
   "language": "python",
   "name": "python3"
  },
  "language_info": {
   "codemirror_mode": {
    "name": "ipython",
    "version": 3
   },
   "file_extension": ".py",
   "mimetype": "text/x-python",
   "name": "python",
   "nbconvert_exporter": "python",
   "pygments_lexer": "ipython3",
   "version": "3.10.12"
  },
  "orig_nbformat": 4
 },
 "nbformat": 4,
 "nbformat_minor": 2
}
