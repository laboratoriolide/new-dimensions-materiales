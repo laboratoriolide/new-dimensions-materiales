{
 "cells": [
  {
   "cell_type": "markdown",
   "metadata": {},
   "source": [
    "# Resumen de la semana 1 del curso de Python para Ciencia de Datos\n",
    "Autora: Denisse Fierro Arcos"
   ]
  },
  {
   "cell_type": "markdown",
   "metadata": {},
   "source": [
    "## Instalación de `Python`\n",
    "Para este curso decidimos instalar `Python` a través de Miniconda que es una versión ligera de Anaconda. La instalación de Miniconda es muy sencilla, solo hay que seguir los pasos que se indican en el siguiente [enlace](https://conda.io/projects/conda/en/latest/user-guide/install/index.html). Recuerda que debes descargar la versión de Miniconda que corresponda con tu sistema operativo. Esta instalación la deberás hacer una sola vez en tu computadora.  \n",
    "  \n",
    "**Glosario:**  \n",
    "- Miniconda: Es una versión ligera de Anaconda que incluye `Python`, un administrador de paquetes llamado `conda`, así como un selecto número de paquetes de ciencias de datos disponibles para `Python`.  \n",
    "- Anaconda: Es una distribución de `Python` que incluye `Python`, un administrador de paquetes llamado `conda`, así como alrededor de 1,500 de paquetes de ciencias de datos disponibles para `Python`.  \n",
    "- Conda: Es un administrador de paquetes que permite instalar, actualizar y eliminar paquetes de `Python` de manera sencilla en tu computador. Conda es el administrador de paquetes que viene incluido en Miniconda y Anaconda.  "
   ]
  },
  {
   "cell_type": "markdown",
   "metadata": {},
   "source": [
    "## Ambientes o entornos virtuales en Conda\n",
    "A diferencia de `R`, la instalación de paquetes en `Python` suele ser un poco más compleja ya que los paquetes de `Python` suelen tener dependencias con versiones específicas de otros paquetes de `Python`. Si no se manejan bien las dependencias entre paquetes (por ej., si se instalan dos paquetes que dependen de versiones diferentes de un mismo paquete), es posible que se generen conflictos entre paquetes y que estos no funcionen correctamente. Para evitar este tipo de conflictos, es recomendable utilizar entornos virtuales.  \n",
    "  \n",
    "Conda permite crear ambientes virtuales de manera sencilla y de esta manera podemos aislar los paquetes de `Python` que se utilizan en un proyecto en particular. Esto permite que cada proyecto tenga sus propios paquetes de `Python` sin que estos entren en conflicto con los paquetes de otros proyectos. Esto es muy útil cuando se trabaja en varios proyectos de manera simultánea.  \n",
    "  \n",
    "Para crear un entorno virtual en Conda, debemos abrir el **Anaconda Prompt** y ejecutar el siguiente comando:  \n",
    "  \n",
    "```bash\n",
    "conda create --name nombre_entorno\n",
    "```\n",
    "\n",
    "Donde `nombre_entorno` es el nombre que le queremos dar a nuestro entorno virtual. Una vez que se crea el ambiente virtual, podemos activarlo con el siguiente comando:  \n",
    "    \n",
    "```bash\n",
    "conda activate nombre_entorno\n",
    "```\n",
    "  \n",
    "Una vez activado, podemos instalar los paquetes de `Python` que necesitemos para nuestro proyecto. Por ejemplo, si queremos instalar el paquete `pandas` en nuestro entorno virtual, debemos ejecutar el siguiente comando:  \n",
    "  \n",
    "```bash\n",
    "conda install -c conda-forge pandas\n",
    "```\n",
    "  \n",
    "El parámetro `-c conda-forge` indica que queremos instalar el paquete `pandas` desde el canal `conda-forge`. Los canales son repositorios de paquetes de `Python` que permiten instalar paquetes que no están disponibles en el canal por defecto de Conda. Además, los canales permiten instalar paquetes que no generan (o al menos minimizan la posibilidad) conflictos entre sí.\n",
    "  \n",
    "Si queremos verificar la lista de paquetes que tenemos instalados en nuestro ambiente virtual, podemos ejecutar el siguiente comando:  \n",
    "  \n",
    "```bash\n",
    "conda list\n",
    "```\n",
    "  \n",
    "Una vez que hayamos instalado todos los paquetes que necesitemos, podemos exportar la lista de paquetes instalados en nuestro entorno virtual a un archivo `yml`. Esto tiene dos beneficios principales:  \n",
    "1. Nos permite compartir la lista de paquetes instalados con otras personas que quieran replicar nuestro proyecto.\n",
    "2. Nos permite replicar nuestro entorno virtual en otra computadora.\n",
    "  \n",
    "Podemos exportar la lista de paquetes en nuestro entorno con el siguiente comando:  \n",
    "  \n",
    "```bash\n",
    "conda env export > ambiente.yml\n",
    "```\n",
    "  \n",
    "Donde `ambiente` es el nombre del archivo que contiene la lista de paquetes instalados en nuestro entorno virtual.  \n",
    "  \n",
    "Para replicar nuestro entorno virtual en otra computadora, podemos hacer uso del archivo `yml` creado en el paso anterior, y luego ejecutar el siguiente comando:  \n",
    "  \n",
    "```bash\n",
    "conda env create -n nombre_entorno -f ambiente.yml\n",
    "```\n",
    "  \n",
    "Donde `nombre_entorno` es el nombre que le queremos dar a nuestro entorno virtual y `ambiente` es el nombre del archivo `yml` que contiene la lista de paquetes instalados en nuestro entorno virtual.  \n",
    "  \n",
    "Una vez que hayamos terminado de trabajar en nuestro proyecto, podemos desactivar nuestro entorno virtual con el siguiente comando:  \n",
    "  \n",
    "```bash\n",
    "conda deactivate\n",
    "```\n",
    "  \n",
    "Si queremos eliminar nuestro ambiente virtual de manera permanente de nuestro computador, podemos ejecutar el siguiente comando:  \n",
    "  \n",
    "```bash\n",
    "conda remove --name nombre_entorno --all\n",
    "```\n",
    "  \n",
    "Donde `nombre_entorno` es el nombre del entorno virtual que queremos eliminar. Nota que el entorno que quieres eliminar debe estar desactivado antes de poder eliminarlo.  \n",
    "  \n",
    "Por último, podemos verificar todos los ambientes virtuales que tenemos instalados en nuestro computador con el siguiente comando:  \n",
    "  \n",
    "```bash\n",
    "conda env list\n",
    "```"
   ]
  },
  {
   "cell_type": "markdown",
   "metadata": {},
   "source": [
    "## ¿Cómo ejecutar `Python`?\n",
    "Hemos visto cómo instalar `Python` y cómo crear ambientes virtuales en Conda en nuestro computador, pero aún no hemos ejecutado `Python`. Para ejecutar `Python` podemos hacer uso del **Anaconda Prompt**, **Terminal**, o **Command Prompt** dependiendo del sistema operativo que tengamos. Para activar `Python` en cualquiera de estos programas, debemos ejecutar el siguiente comando:  \n",
    "  \n",
    "```bash\n",
    "python\n",
    "```\n",
    "  \n",
    "Lo que resultará en lo siguiente:  \n",
    "  \n",
    "```bash\n",
    "C:\\Users\\Usario>python\n",
    "Python 3.10.9 | packaged by conda-forge | (main, Jan 11 2023, 15:15:40) [MSC v.1916 64 bit (AMD64)] on win32\n",
    "Type \"help\", \"copyright\", \"credits\" or \"license\" for more information.\n",
    ">>> \n",
    "```\n",
    "  \n",
    "Si  queremos salir de `Python`, podemos ejecutar el siguiente comando:  \n",
    "  \n",
    "```bash\n",
    ">>> exit()\n",
    "```\n",
    "  \n",
    "Desde aquí podemos interactuar con `Python` y ejecutar comandos de `Python` de la misma manera como lo hicieron en la consola en las clases de `R`. Al igual que en `R`, podemos ejecutar comandos de `Python` de manera interactiva, pero no podemos guardar los comandos que estemos ejecutando. Para guardar los scripts que desarrollemos debemos crear un archivo de `Python` con extensión `.py` o un cuadernos de Jupyter con extensión `.ipynb`. El archivo `.py` puede ser ejecutado desde la consola, mientras que el cuaderno de Jupyter es similar a los archivos Markdown que hemos visto en las clases de `R`."
   ]
  },
  {
   "cell_type": "markdown",
   "metadata": {},
   "source": [
    "### Interfaces que permiten interactuar con `Python`\n",
    "1. **Jupyter Notebook**\n",
    "Existen varias interfaces que permiten interactuar con `Python` de manera interactiva. Una de las más populares es [Jupyter](https://jupyter.org/). Jupyter es una aplicación web que permite crear cuadernos de `Python` (archivos con extensión `.ipynb`) que pueden ser ejecutados desde un navegador (por ej., Google Chrome). Vale la pena recalcar que a pesar que un navegador es utilizado para estos cuadernos, estos cuadernos no son páginas web, sino que son archivos y paquetes disponibles en tu computador que pueden ser accedidos y ejecutados desde un navegador. Jupyter permite ejecutar comandos de `Python` de manera interactiva, pero también permite guardar los comandos que estemos ejecutando. Además, Jupyter permite incluir texto, imágenes, ecuaciones, etc. en los cuadernos de `Python`.  \n",
    "  \n",
    "Jupyter puede ser instalado en nuestro computador a través de Conda. Para instalar Jupyter, debemos abrir el **Anaconda Prompt** y ejecutar el siguiente comando:  \n",
    "  \n",
    "```bash\n",
    "conda install -c conda-forge jupyterlab\n",
    "```\n",
    "  \n",
    "Recuerda que deberás activar el ambiente virtual donde quieres instalar Jupyter antes de ejecutar el comando anterior. Una vez que Jupyter haya sido instalado, podemos ejecutar Jupyter desde el **Anaconda Prompt** con el siguiente comando:  \n",
    "  \n",
    "```bash\n",
    "jupyter lab\n",
    "```\n",
    "  \n",
    "Esto abrirá una página web en tu navegador desde donde podrás crear y ejecutar cuadernos de Jupyter utilizando `Python`.\n",
    "\n",
    "2. **RStudio**\n",
    "Puedes utilizar la misma interface que utilizas para interactuar con `R` para interactuar con `Python`. Para esto, debes instalar el paquete `reticulate` en `R` con el siguiente comando:  \n",
    "  \n",
    "```r\n",
    "install.packages(\"reticulate\")\n",
    "```\n",
    "  \n",
    "Debes asegurarte de conectar RSudio con la versión de `Python` que instalaste en tu computador. Para esto, puedes ir al menú: *Tools > Project Options... > Python*. En este menú puedes presionar *Select...* seleccionar el ambiente virtual que quieres utilizar en tu proyecto.\n",
    "\n",
    "3. **Workspaces de Datacamp**\n",
    "Como becarias de New Dimensions tienen acceso a los Workspaces Premium en Datacamp. Pueden acceder a estos Workspaces desde el siguiente [enlace](https://app.datacamp.com/workspace/overview). Asegúrate que el perfil LIDE (New Dimensions) aparezca en la parte superior izquierda, y luego presiona el botón verde que dice *Create workspace*.  \n",
    "  \n",
    "Si ya has trabajado con workspaces antes, entonces presiona *Workspace* de la barra izquierda y esto te mostrará todos los workspaces que has creado. \n",
    "  \n",
    "Esta es una lista pequeña de todas las interfaces disponibles para `Python`. No existe en realidad una interface que sea la mejor, sino que esto varía mucho de acuerdo a preferencias personales. No importa la interface que decidas usar, lo importante es que te sientas cómoda con ella y que te permita trabajar de manera eficiente."
   ]
  },
  {
   "cell_type": "markdown",
   "metadata": {},
   "source": [
    "## Usando paquetes de `Python`\n",
    "Ya hemos instalado `Python` y hemos visto cómo crear ambientes virtuales y cómo instalar paquetes, así como opciones de cómo interactuar con `Python`. Ahora veremos cómo utilizar paquetes de `Python` en nuestros proyectos.  \n",
    "  \n",
    "En `Python` los paquetes se importan con el comando `import`. Por ejemplo, si queremos importar el paquete `pandas`, debemos ejecutar el siguiente comando:"
   ]
  },
  {
   "cell_type": "code",
   "execution_count": null,
   "metadata": {},
   "outputs": [],
   "source": [
    "import pandas"
   ]
  },
  {
   "cell_type": "markdown",
   "metadata": {},
   "source": [
    "Esto va a importar el paquete completo de `pandas` con todas sus funciones a nuestro proyecto. Si queremos utilizar una función específica de `pandas`, debemos llamar a la función con el nombre del paquete. Por ejemplo, si queremos utilizar la función `read_csv` (que nos permite leer datos desde un archivo `.csv`) del paquete `pandas`, debemos ejecutar el siguiente comando:  "
   ]
  },
  {
   "cell_type": "code",
   "execution_count": null,
   "metadata": {},
   "outputs": [],
   "source": [
    "pandas.read_csv(\"data.csv\")"
   ]
  },
  {
   "cell_type": "markdown",
   "metadata": {},
   "source": [
    "Por suerte en este caso, el nombre del paquete es relativamente corto, pero existen otros paquetes con nombres más largos como `matplotlib` que nos permite crear gráficos. Para evitar utilizar el nombre completo del paquete cada vez que queremos utilizar una de sus funciones, podemos importar el paquete con un alias o apodo. Por ejemplo, si queremos importar el paquete `matplotlib` con el alias `mp`, debemos ejecutar el siguiente comando:\n",
    "\n"
   ]
  },
  {
   "cell_type": "code",
   "execution_count": null,
   "metadata": {},
   "outputs": [],
   "source": [
    "import matplotlib as mp"
   ]
  },
  {
   "cell_type": "markdown",
   "metadata": {},
   "source": [
    "De esta manera podemos utilizar las funciones del paquete `matplotlib` utilizando el alias `mp` seguido de la función o módulo que queremos utilizar. Un módulo es un subconjunto de funciones de un paquete que tienen un propósito en común. Por ejemplo, el paquete `matplotlib` tiene un módulo llamado `colormaps` que nos permite acceder y crear paletas de colores. Si queremos utilizar la paleta de colores `viridis` del paquete `matplotlib`, debemos ejecutar el siguiente comando:"
   ]
  },
  {
   "cell_type": "code",
   "execution_count": null,
   "metadata": {},
   "outputs": [],
   "source": [
    "mp.colormaps['viridis']"
   ]
  },
  {
   "cell_type": "markdown",
   "metadata": {},
   "source": [
    "Recuerda que usamos el alias `mp` en este caso porque así importamos el paquete `matplotlib`.  \n",
    "  \n",
    "También es posible importar un módulo específico de un paquete. Por ejemplo, si queremos importar el módulo `pyplot` que nos permite crear gráficos del paquete `matplotlib` usando un alias o apodo, debemos ejecutar el siguiente comando:"
   ]
  },
  {
   "cell_type": "code",
   "execution_count": null,
   "metadata": {},
   "outputs": [],
   "source": [
    "import matplotlib.pyplot as plt"
   ]
  },
  {
   "cell_type": "markdown",
   "metadata": {},
   "source": [
    "Si quisieramos iniciar una figura, entonces podríamos utilizar la función `figure` del módulo `pyplot` del paquete `matplotlib` de la siguiente manera:"
   ]
  },
  {
   "cell_type": "code",
   "execution_count": null,
   "metadata": {},
   "outputs": [],
   "source": [
    "plt.figure()"
   ]
  },
  {
   "cell_type": "markdown",
   "metadata": {},
   "source": [
    "Por último, es posible cargar una sola función de un paquete. Por ejemplo, si queremos utilizar solamente la función `DataFrame` del paquete `pandas`, podemos ejecutar el siguiente comando:"
   ]
  },
  {
   "cell_type": "code",
   "execution_count": 2,
   "metadata": {},
   "outputs": [],
   "source": [
    "from pandas import DataFrame"
   ]
  },
  {
   "cell_type": "markdown",
   "metadata": {},
   "source": [
    "Ahora si queremos utilizar la función `read_csv` del paquete `pandas`, podemos ejecutar el siguiente comando:"
   ]
  },
  {
   "cell_type": "code",
   "execution_count": 3,
   "metadata": {},
   "outputs": [
    {
     "data": {
      "text/html": [
       "<div>\n",
       "<style scoped>\n",
       "    .dataframe tbody tr th:only-of-type {\n",
       "        vertical-align: middle;\n",
       "    }\n",
       "\n",
       "    .dataframe tbody tr th {\n",
       "        vertical-align: top;\n",
       "    }\n",
       "\n",
       "    .dataframe thead th {\n",
       "        text-align: right;\n",
       "    }\n",
       "</style>\n",
       "<table border=\"1\" class=\"dataframe\">\n",
       "  <thead>\n",
       "    <tr style=\"text-align: right;\">\n",
       "      <th></th>\n",
       "      <th>nombre</th>\n",
       "      <th>edad</th>\n",
       "    </tr>\n",
       "  </thead>\n",
       "  <tbody>\n",
       "    <tr>\n",
       "      <th>0</th>\n",
       "      <td>Ana</td>\n",
       "      <td>23</td>\n",
       "    </tr>\n",
       "    <tr>\n",
       "      <th>1</th>\n",
       "      <td>Juan</td>\n",
       "      <td>34</td>\n",
       "    </tr>\n",
       "    <tr>\n",
       "      <th>2</th>\n",
       "      <td>Maria</td>\n",
       "      <td>21</td>\n",
       "    </tr>\n",
       "  </tbody>\n",
       "</table>\n",
       "</div>"
      ],
      "text/plain": [
       "  nombre  edad\n",
       "0    Ana    23\n",
       "1   Juan    34\n",
       "2  Maria    21"
      ]
     },
     "execution_count": 3,
     "metadata": {},
     "output_type": "execute_result"
    }
   ],
   "source": [
    "DataFrame({'nombre': ['Ana', 'Juan', 'Maria'],\n",
    "           'edad': [23, 34, 21]})"
   ]
  },
  {
   "cell_type": "markdown",
   "metadata": {},
   "source": [
    "Como ven, no hay necesidad de primero nombrar al paquete, ya que la función `DataFrame` fue importada directamente."
   ]
  },
  {
   "cell_type": "markdown",
   "metadata": {},
   "source": [
    "## Tipos de datos en `Python`\n",
    "Tal como en `R`, en `Python` existen varios tipos de datos. Los tipos de datos más comunes son:\n",
    "- `int`: Números enteros.\n",
    "- `float`: Números decimales.\n",
    "- `str`: Cadenas de caracteres.\n",
    "- `bool`: Valores lógicos.\n",
    "  \n",
    "La función `type` nos permite saber el tipo de dato de un objeto. Por ejemplo, si queremos saber el tipo de dato del número `1` o de la cadena de caracteres `\"Hola\"`, podemos  ejecutar los siguientes comandos:"
   ]
  },
  {
   "cell_type": "code",
   "execution_count": 5,
   "metadata": {},
   "outputs": [
    {
     "data": {
      "text/plain": [
       "int"
      ]
     },
     "execution_count": 5,
     "metadata": {},
     "output_type": "execute_result"
    }
   ],
   "source": [
    "#Numeros enteros\n",
    "type(1)"
   ]
  },
  {
   "cell_type": "code",
   "execution_count": 6,
   "metadata": {},
   "outputs": [
    {
     "data": {
      "text/plain": [
       "str"
      ]
     },
     "execution_count": 6,
     "metadata": {},
     "output_type": "execute_result"
    }
   ],
   "source": [
    "#Caracteres\n",
    "type('Hola')"
   ]
  },
  {
   "cell_type": "markdown",
   "metadata": {},
   "source": [
    "Los valores lógicos o booleanos son `True` y `False`. Si queremos saber el tipo de dato de `True` o `False`, podemos ejecutar los siguientes comandos:"
   ]
  },
  {
   "cell_type": "code",
   "execution_count": 7,
   "metadata": {},
   "outputs": [
    {
     "name": "stdout",
     "output_type": "stream",
     "text": [
      "<class 'bool'> <class 'bool'>\n"
     ]
    }
   ],
   "source": [
    "print(type(True), type(False))"
   ]
  },
  {
   "cell_type": "markdown",
   "metadata": {},
   "source": [
    "Ambos son de tipo booleanos. Noten que utilizamos la función `print` para imprimir el resultado de la función `type` aplicada a `True` y `False`. Esto es porque al ejecutar la celda anterior sin esta función, solo veremos el resultado de la última línea de código ejecutada, tal como mostramos abajo. "
   ]
  },
  {
   "cell_type": "code",
   "execution_count": 8,
   "metadata": {},
   "outputs": [
    {
     "data": {
      "text/plain": [
       "bool"
      ]
     },
     "execution_count": 8,
     "metadata": {},
     "output_type": "execute_result"
    }
   ],
   "source": [
    "type(True); type(False)"
   ]
  },
  {
   "cell_type": "markdown",
   "metadata": {},
   "source": [
    "## Asignando valores a variables\n",
    "En `Python` podemos asignar valores a variables utilizando el operador `=`. Por ejemplo, si queremos asignar el valor `1` a la variable `x`, podemos ejecutar el siguiente comando:"
   ]
  },
  {
   "cell_type": "code",
   "execution_count": 9,
   "metadata": {},
   "outputs": [],
   "source": [
    "x = 1"
   ]
  },
  {
   "cell_type": "markdown",
   "metadata": {},
   "source": [
    "Podemos verificar el valor de `x` simplemente llamando a la variable `x` en la consola:"
   ]
  },
  {
   "cell_type": "code",
   "execution_count": 10,
   "metadata": {},
   "outputs": [
    {
     "data": {
      "text/plain": [
       "1"
      ]
     },
     "execution_count": 10,
     "metadata": {},
     "output_type": "execute_result"
    }
   ],
   "source": [
    "x"
   ]
  },
  {
   "cell_type": "markdown",
   "metadata": {},
   "source": [
    "Podemos también realizar operaciones aritméticas con variables. Por ejemplo, si queremos sumar `15` a `x`, podemos ejecutar el siguiente comando:"
   ]
  },
  {
   "cell_type": "code",
   "execution_count": 11,
   "metadata": {},
   "outputs": [
    {
     "data": {
      "text/plain": [
       "16"
      ]
     },
     "execution_count": 11,
     "metadata": {},
     "output_type": "execute_result"
    }
   ],
   "source": [
    "x+15"
   ]
  },
  {
   "cell_type": "markdown",
   "metadata": {},
   "source": [
    "Podemos asignarle este resultado a una nueva variable"
   ]
  },
  {
   "cell_type": "code",
   "execution_count": 13,
   "metadata": {},
   "outputs": [
    {
     "data": {
      "text/plain": [
       "16"
      ]
     },
     "execution_count": 13,
     "metadata": {},
     "output_type": "execute_result"
    }
   ],
   "source": [
    "y = x+15\n",
    "y"
   ]
  },
  {
   "cell_type": "markdown",
   "metadata": {},
   "source": [
    "También podemos sobreescribir el valor de `x` con el resultado de la operación anterior:"
   ]
  },
  {
   "cell_type": "code",
   "execution_count": 14,
   "metadata": {},
   "outputs": [
    {
     "data": {
      "text/plain": [
       "10"
      ]
     },
     "execution_count": 14,
     "metadata": {},
     "output_type": "execute_result"
    }
   ],
   "source": [
    "x = 10*x\n",
    "x"
   ]
  },
  {
   "cell_type": "markdown",
   "metadata": {},
   "source": [
    "Por último, podemos realizar operaciones utilizando el contenido de dos variables. Por ejemplo, si queremos sumar el contenido de `x` y `y`, podemos ejecutar el siguiente comando:"
   ]
  },
  {
   "cell_type": "code",
   "execution_count": 15,
   "metadata": {},
   "outputs": [
    {
     "data": {
      "text/plain": [
       "26"
      ]
     },
     "execution_count": 15,
     "metadata": {},
     "output_type": "execute_result"
    }
   ],
   "source": [
    "x+y"
   ]
  },
  {
   "cell_type": "markdown",
   "metadata": {},
   "source": [
    "## Concatenando cadenas de caracteres\n",
    "En `Python` podemos concatenar cadenas de caracteres de varias maneras, aquí incluyo algunas de las más comunes"
   ]
  },
  {
   "cell_type": "markdown",
   "metadata": {},
   "source": [
    "### Utilizando el operador `+`. "
   ]
  },
  {
   "cell_type": "code",
   "execution_count": 16,
   "metadata": {},
   "outputs": [
    {
     "data": {
      "text/plain": [
       "'JuanPerez'"
      ]
     },
     "execution_count": 16,
     "metadata": {},
     "output_type": "execute_result"
    }
   ],
   "source": [
    "nombre = 'Juan'\n",
    "apellido = 'Perez'\n",
    "\n",
    "nombre+apellido"
   ]
  },
  {
   "cell_type": "markdown",
   "metadata": {},
   "source": [
    "Podemos agregar un espacio entre las cadenas de caracteres de la siguiente manera:"
   ]
  },
  {
   "cell_type": "code",
   "execution_count": 17,
   "metadata": {},
   "outputs": [
    {
     "data": {
      "text/plain": [
       "'Juan Perez'"
      ]
     },
     "execution_count": 17,
     "metadata": {},
     "output_type": "execute_result"
    }
   ],
   "source": [
    "nombre+' '+apellido"
   ]
  },
  {
   "cell_type": "markdown",
   "metadata": {},
   "source": [
    "Podemos mezclar cadenas de caracteres con números de la siguiente manera:"
   ]
  },
  {
   "cell_type": "code",
   "execution_count": 21,
   "metadata": {},
   "outputs": [
    {
     "data": {
      "text/plain": [
       "'Juan Perez tiene 23'"
      ]
     },
     "execution_count": 21,
     "metadata": {},
     "output_type": "execute_result"
    }
   ],
   "source": [
    "edad = 23\n",
    "\n",
    "nombre+' '+apellido+' tiene '+str(edad)"
   ]
  },
  {
   "cell_type": "markdown",
   "metadata": {},
   "source": [
    "Nota que transformamos la variable `edad` en una cadena de caracteres utilizando la función `str` antes de concatenarlo con las otras dos variables. De lo contrario, obtendríamos un error."
   ]
  },
  {
   "cell_type": "code",
   "execution_count": 20,
   "metadata": {},
   "outputs": [
    {
     "ename": "TypeError",
     "evalue": "can only concatenate str (not \"int\") to str",
     "output_type": "error",
     "traceback": [
      "\u001b[1;31m---------------------------------------------------------------------------\u001b[0m",
      "\u001b[1;31mTypeError\u001b[0m                                 Traceback (most recent call last)",
      "\u001b[1;32mc:\\Users\\ldfierro\\Documents\\Scripts\\new-dimensions\\Python\\Semana_1.ipynb Cell 50\u001b[0m line \u001b[0;36m1\n\u001b[1;32m----> <a href='vscode-notebook-cell:/c%3A/Users/ldfierro/Documents/Scripts/new-dimensions/Python/Semana_1.ipynb#Y142sZmlsZQ%3D%3D?line=0'>1</a>\u001b[0m nombre\u001b[39m+\u001b[39;49m\u001b[39m'\u001b[39;49m\u001b[39m \u001b[39;49m\u001b[39m'\u001b[39;49m\u001b[39m+\u001b[39;49mapellido\u001b[39m+\u001b[39;49m\u001b[39m'\u001b[39;49m\u001b[39m \u001b[39;49m\u001b[39m'\u001b[39;49m\u001b[39m+\u001b[39;49medad\n",
      "\u001b[1;31mTypeError\u001b[0m: can only concatenate str (not \"int\") to str"
     ]
    }
   ],
   "source": [
    "nombre+' '+apellido+' '+edad"
   ]
  },
  {
   "cell_type": "markdown",
   "metadata": {},
   "source": [
    "Esto nos indica que no podemos concatenar cadenas de caracteres con números. Para poder concatenar cadenas de caracteres con números, definitivamente debemos transformar los números en cadenas de caracteres."
   ]
  },
  {
   "cell_type": "markdown",
   "metadata": {},
   "source": [
    "### Utilizando la función `print`\n",
    "Esta es una opción un poco más flexible porque nos permite incluir datos de varios tipos en una sola línea de código. Además, incluye espacios entre los valores que concatenamos. "
   ]
  },
  {
   "cell_type": "code",
   "execution_count": 22,
   "metadata": {},
   "outputs": [
    {
     "name": "stdout",
     "output_type": "stream",
     "text": [
      "Juan Perez 23\n"
     ]
    }
   ],
   "source": [
    "print(nombre, apellido, edad)"
   ]
  },
  {
   "cell_type": "markdown",
   "metadata": {},
   "source": [
    "También podemos agregar otros datos directamente, sin necesidad que estén asignado a una variable."
   ]
  },
  {
   "cell_type": "code",
   "execution_count": 24,
   "metadata": {},
   "outputs": [
    {
     "name": "stdout",
     "output_type": "stream",
     "text": [
      "Mi nombre es Juan Perez y tengo 23 años\n"
     ]
    }
   ],
   "source": [
    "print('Mi nombre es', nombre, apellido, 'y tengo', edad, 'años')"
   ]
  },
  {
   "cell_type": "markdown",
   "metadata": {},
   "source": [
    "También podemos cambiar el separador entre los valores que concatenamos. Por ejemplo, si queremos utilizar un guión como separador, podemos ejecutar el siguiente comando:"
   ]
  },
  {
   "cell_type": "code",
   "execution_count": 26,
   "metadata": {},
   "outputs": [
    {
     "name": "stdout",
     "output_type": "stream",
     "text": [
      "Juan-Perez-23\n"
     ]
    }
   ],
   "source": [
    "print(nombre, apellido, edad, sep = '-')"
   ]
  },
  {
   "cell_type": "markdown",
   "metadata": {},
   "source": [
    "### Utilizando F-strings\n",
    "Esta es una opción que permite incluir código en Python que será evaluado antes de ser concatenado. Para utilizar F-strings, debemos incluir una `f` antes de la cadena de caracteres que queremos concatenar. Por ejemplo, si queremos crear la oración `\"Hola, mi nombre es ____ y tengo ____ años\"`, en donde los espacios en blanco serán reemplazados por el valor de las variables nombre y edad, podemos ejecutar el siguiente comando:"
   ]
  },
  {
   "cell_type": "code",
   "execution_count": 27,
   "metadata": {},
   "outputs": [
    {
     "data": {
      "text/plain": [
       "'Mi nombre es Juan Perez y tengo 23 años'"
      ]
     },
     "execution_count": 27,
     "metadata": {},
     "output_type": "execute_result"
    }
   ],
   "source": [
    "f'Mi nombre es {nombre} {apellido} y tengo {edad} años'"
   ]
  },
  {
   "cell_type": "markdown",
   "metadata": {},
   "source": [
    "## Listas\n",
    "Las listas en `Python` son similares a los vectores en `R`. Las listas en `Python` pueden contener datos de diferentes tipos. Para crear una lista en `Python`, debemos incluir los elementos de la lista entre corchetes y separados por comas. Por ejemplo, si queremos crear una lista con los números `1`, `2` y `3`, podemos ejecutar el siguiente comando:"
   ]
  },
  {
   "cell_type": "code",
   "execution_count": 28,
   "metadata": {},
   "outputs": [
    {
     "data": {
      "text/plain": [
       "[1, 2, 3]"
      ]
     },
     "execution_count": 28,
     "metadata": {},
     "output_type": "execute_result"
    }
   ],
   "source": [
    "[1, 2, 3]"
   ]
  },
  {
   "cell_type": "markdown",
   "metadata": {},
   "source": [
    "Las listas pueden ser asignadas a una variable. Por ejemplo, si queremos asignar la lista anterior a la variable `x`, podemos ejecutar el siguiente comando:"
   ]
  },
  {
   "cell_type": "code",
   "execution_count": 29,
   "metadata": {},
   "outputs": [],
   "source": [
    "x = [1, 2, 3]"
   ]
  },
  {
   "cell_type": "markdown",
   "metadata": {},
   "source": [
    "Podemos crear una lista con datos de distinto tipo de la misma manera:"
   ]
  },
  {
   "cell_type": "code",
   "execution_count": 30,
   "metadata": {},
   "outputs": [
    {
     "data": {
      "text/plain": [
       "[1, 'hola', 3.14, True]"
      ]
     },
     "execution_count": 30,
     "metadata": {},
     "output_type": "execute_result"
    }
   ],
   "source": [
    "mi_lista = [1, 'hola', 3.14, True]\n",
    "mi_lista"
   ]
  },
  {
   "cell_type": "markdown",
   "metadata": {},
   "source": [
    "### Accediendo a elementos de una lista\n",
    "Para esto utilizamos índices que nos indican su posición en la lista. En `Python` los índices comienzan en `0`. Por ejemplo, si queremos acceder al primer elemento de la lista `mi_lista`, podemos ejecutar el siguiente comando:"
   ]
  },
  {
   "cell_type": "code",
   "execution_count": 32,
   "metadata": {},
   "outputs": [
    {
     "data": {
      "text/plain": [
       "1"
      ]
     },
     "execution_count": 32,
     "metadata": {},
     "output_type": "execute_result"
    }
   ],
   "source": [
    "mi_lista[0]"
   ]
  },
  {
   "cell_type": "markdown",
   "metadata": {},
   "source": [
    "Podemos acceder a un rango de elementos de una lista utilizando dos índices separados por dos puntos. Por ejemplo, si queremos acceder al primer y segundo elemento de la lista `mi_lista`, podemos ejecutar el siguiente comando:"
   ]
  },
  {
   "cell_type": "code",
   "execution_count": 33,
   "metadata": {},
   "outputs": [
    {
     "data": {
      "text/plain": [
       "[1, 'hola']"
      ]
     },
     "execution_count": 33,
     "metadata": {},
     "output_type": "execute_result"
    }
   ],
   "source": [
    "mi_lista[0:2]"
   ]
  },
  {
   "cell_type": "markdown",
   "metadata": {},
   "source": [
    "Nota que el segundo índice no está incluido en el resultado. Esto es porque el rango de índices va desde el primer índice hasta el segundo índice menos uno. Por ejemplo, si queremos acceder al primer, segundo y tercer elemento de la lista `mi_lista`, podemos ejecutar el siguiente comando:"
   ]
  },
  {
   "cell_type": "code",
   "execution_count": 35,
   "metadata": {},
   "outputs": [
    {
     "data": {
      "text/plain": [
       "[1, 'hola', 3.14]"
      ]
     },
     "execution_count": 35,
     "metadata": {},
     "output_type": "execute_result"
    }
   ],
   "source": [
    "mi_lista[0:3]\t"
   ]
  },
  {
   "cell_type": "markdown",
   "metadata": {},
   "source": [
    "También podemos utilizar índices negativos. En este caso, el índice comienza en `-1` y va hacia atrás. Por ejemplo, si queremos acceder al último elemento de la lista `mi_lista`, podemos ejecutar el siguiente comando:"
   ]
  },
  {
   "cell_type": "code",
   "execution_count": 36,
   "metadata": {},
   "outputs": [
    {
     "data": {
      "text/plain": [
       "True"
      ]
     },
     "execution_count": 36,
     "metadata": {},
     "output_type": "execute_result"
    }
   ],
   "source": [
    "mi_lista[-1]"
   ]
  },
  {
   "cell_type": "markdown",
   "metadata": {},
   "source": [
    "Podemos acceder a un rango de elementos de una lista utilizando dos índices negativos separados por dos puntos. Por ejemplo, si queremos acceder al último y penúltimo elemento de la lista `mi_lista`, podemos ejecutar el siguiente comando:"
   ]
  },
  {
   "cell_type": "code",
   "execution_count": 37,
   "metadata": {},
   "outputs": [
    {
     "data": {
      "text/plain": [
       "['hola', 3.14]"
      ]
     },
     "execution_count": 37,
     "metadata": {},
     "output_type": "execute_result"
    }
   ],
   "source": [
    "mi_lista[-3:-1]"
   ]
  },
  {
   "cell_type": "markdown",
   "metadata": {},
   "source": [
    "Pero, ¿por qué no incluye al último elemento? Esto es porque el rango de índices va desde el primer índice hasta el segundo índice menos uno. Por ejemplo, si queremos acceder al último, penúltimo y antepenúltimo elemento de la lista `mi_lista`, podemos ejecutar el siguiente comando:"
   ]
  },
  {
   "cell_type": "code",
   "execution_count": 38,
   "metadata": {},
   "outputs": [
    {
     "data": {
      "text/plain": [
       "['hola', 3.14, True]"
      ]
     },
     "execution_count": 38,
     "metadata": {},
     "output_type": "execute_result"
    }
   ],
   "source": [
    "mi_lista[-3:] "
   ]
  },
  {
   "cell_type": "markdown",
   "metadata": {},
   "source": [
    "Si utilizamos los dos puntos sin especificar un índice, entonces `Python` asume que queremos acceder a todos los elementos de la lista. Por ejemplo, si queremos acceder a todos los elementos de la lista `mi_lista`, podemos ejecutar el siguiente comando:"
   ]
  },
  {
   "cell_type": "code",
   "execution_count": 39,
   "metadata": {},
   "outputs": [
    {
     "data": {
      "text/plain": [
       "[1, 'hola', 3.14, True]"
      ]
     },
     "execution_count": 39,
     "metadata": {},
     "output_type": "execute_result"
    }
   ],
   "source": [
    "mi_lista[:]"
   ]
  },
  {
   "cell_type": "markdown",
   "metadata": {},
   "source": [
    "Todos los elementos desde el índice 2 hasta el final"
   ]
  },
  {
   "cell_type": "code",
   "execution_count": 40,
   "metadata": {},
   "outputs": [
    {
     "data": {
      "text/plain": [
       "[3.14, True]"
      ]
     },
     "execution_count": 40,
     "metadata": {},
     "output_type": "execute_result"
    }
   ],
   "source": [
    "mi_lista[2:]"
   ]
  },
  {
   "cell_type": "markdown",
   "metadata": {},
   "source": [
    "Desde el tercer elemento hasta el inicio."
   ]
  },
  {
   "cell_type": "code",
   "execution_count": 43,
   "metadata": {},
   "outputs": [
    {
     "data": {
      "text/plain": [
       "[1, 'hola', 3.14]"
      ]
     },
     "execution_count": 43,
     "metadata": {},
     "output_type": "execute_result"
    }
   ],
   "source": [
    "mi_lista[:-1]"
   ]
  },
  {
   "cell_type": "markdown",
   "metadata": {},
   "source": [
    "También podemos acceder a los caracteres de una cadena de caracteres utilizando índices. Por ejemplo, si queremos acceder al primer caracter de la cadena de caracteres `\"Hola\"`, podemos ejecutar el siguiente comando:"
   ]
  },
  {
   "cell_type": "code",
   "execution_count": 44,
   "metadata": {},
   "outputs": [
    {
     "data": {
      "text/plain": [
       "'h'"
      ]
     },
     "execution_count": 44,
     "metadata": {},
     "output_type": "execute_result"
    }
   ],
   "source": [
    "'hola'[0]"
   ]
  },
  {
   "cell_type": "markdown",
   "metadata": {},
   "source": [
    "También podemos hacer los mismo con las cadenas de caracteres dentro de una lista"
   ]
  },
  {
   "cell_type": "code",
   "execution_count": 46,
   "metadata": {},
   "outputs": [
    {
     "data": {
      "text/plain": [
       "'h'"
      ]
     },
     "execution_count": 46,
     "metadata": {},
     "output_type": "execute_result"
    }
   ],
   "source": [
    "mi_lista[1][0]"
   ]
  }
 ],
 "metadata": {
  "kernelspec": {
   "display_name": "new_dimensions",
   "language": "python",
   "name": "python3"
  },
  "language_info": {
   "codemirror_mode": {
    "name": "ipython",
    "version": 3
   },
   "file_extension": ".py",
   "mimetype": "text/x-python",
   "name": "python",
   "nbconvert_exporter": "python",
   "pygments_lexer": "ipython3",
   "version": "3.10.12"
  },
  "orig_nbformat": 4
 },
 "nbformat": 4,
 "nbformat_minor": 2
}
